{
 "cells": [
  {
   "cell_type": "markdown",
   "metadata": {},
   "source": [
    "# Chapter 1\n",
    "\n",
    "\n",
    "### Ex 1.2-2 \n",
    "\n",
    "Insertion runs in $8n^2$ steps while merge sort runs in $64nlgn$ steps.\n",
    "\n",
    "\n",
    "\n",
    "```python\n",
    "for i in range(1, 52):\n",
    "  if i < 8*math.log(i, 2):\n",
    "    print i\n",
    "      else:\n",
    "        print i, \"crossover\"\n",
    "```\n",
    "\n",
    "2-43 is the range we are looking for."
   ]
  },
  {
   "cell_type": "code",
   "execution_count": 31,
   "metadata": {
    "collapsed": false
   },
   "outputs": [],
   "source": [
    "    def lengthOfLongestSubstring(s):\n",
    "        maxlen = 0\n",
    "        for i in range(len(s)):\n",
    "            if len(s) - i <= maxlen:\n",
    "                break\n",
    "            dict = {}\n",
    "            for j in range(i, len(s)):\n",
    "                if s[j] in dict:\n",
    "                    if maxlen < j - i:\n",
    "                        maxlen = j - i\n",
    "                    break\n",
    "                else:\n",
    "                    dict[s[j]] = j\n",
    "        return maxlen"
   ]
  },
  {
   "cell_type": "code",
   "execution_count": 38,
   "metadata": {
    "collapsed": false
   },
   "outputs": [
    {
     "data": {
      "text/plain": [
       "9"
      ]
     },
     "execution_count": 38,
     "metadata": {},
     "output_type": "execute_result"
    }
   ],
   "source": [
    "lengthOfLongestSubstring(\"abcqeroupabc\")"
   ]
  },
  {
   "cell_type": "code",
   "execution_count": 48,
   "metadata": {
    "collapsed": true
   },
   "outputs": [],
   "source": [
    "    def lengthOfLongestSubstring(s):\n",
    "        maxlen = 0\n",
    "        start = 0\n",
    "        dict = {}\n",
    "        for end in range(len(s)):\n",
    "            if s[end] in dict and start < dict[s[end]] + 1:\n",
    "                start = dict[s[end]] + 1\n",
    "            dict[s[end]] = end\n",
    "            print (start, end)\n",
    "            if maxlen < end - start + 1:\n",
    "                maxlen = end - start + 1\n",
    "                print (maxlen, start, end)\n",
    "        print dict\n",
    "        return maxlen\n",
    "        \n",
    "        \n",
    "        "
   ]
  },
  {
   "cell_type": "code",
   "execution_count": 49,
   "metadata": {
    "collapsed": false
   },
   "outputs": [
    {
     "name": "stdout",
     "output_type": "stream",
     "text": [
      "(0, 0)\n",
      "(1, 0, 0)\n",
      "(0, 1)\n",
      "(2, 0, 1)\n",
      "(2, 2)\n",
      "(2, 3)\n",
      "{'a': 3, 'b': 2}\n"
     ]
    },
    {
     "data": {
      "text/plain": [
       "2"
      ]
     },
     "execution_count": 49,
     "metadata": {},
     "output_type": "execute_result"
    }
   ],
   "source": [
    "lengthOfLongestSubstring(\"abba\")"
   ]
  },
  {
   "cell_type": "code",
   "execution_count": null,
   "metadata": {
    "collapsed": true
   },
   "outputs": [],
   "source": []
  },
  {
   "cell_type": "code",
   "execution_count": null,
   "metadata": {
    "collapsed": true
   },
   "outputs": [],
   "source": []
  }
 ],
 "metadata": {
  "kernelspec": {
   "display_name": "Python 2",
   "language": "python",
   "name": "python2"
  },
  "language_info": {
   "codemirror_mode": {
    "name": "ipython",
    "version": 2
   },
   "file_extension": ".py",
   "mimetype": "text/x-python",
   "name": "python",
   "nbconvert_exporter": "python",
   "pygments_lexer": "ipython2",
   "version": "2.7.10"
  }
 },
 "nbformat": 4,
 "nbformat_minor": 0
}
