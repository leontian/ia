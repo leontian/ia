{
 "cells": [
  {
   "cell_type": "markdown",
   "metadata": {},
   "source": [
    "# Chapter 1\n",
    "\n",
    "\n",
    "### Ex 1.2-2 \n",
    "\n",
    "Insertion runs in $8n^2$ steps while merge sort runs in $64nlgn$ steps.\n",
    "\n",
    "\n",
    "\n",
    "```python\n",
    "for i in range(1, 52):\n",
    "  if i < 8*math.log(i, 2):\n",
    "    print i\n",
    "      else:\n",
    "        print i, \"crossover\"\n",
    "```\n",
    "\n",
    "2-43 is the range we are looking for."
   ]
  },
  {
   "cell_type": "code",
   "execution_count": null,
   "metadata": {
    "collapsed": false
   },
   "outputs": [],
   "source": []
  }
 ],
 "metadata": {
  "kernelspec": {
   "display_name": "Python 2",
   "language": "python",
   "name": "python2"
  },
  "language_info": {
   "codemirror_mode": {
    "name": "ipython",
    "version": 2
   },
   "file_extension": ".py",
   "mimetype": "text/x-python",
   "name": "python",
   "nbconvert_exporter": "python",
   "pygments_lexer": "ipython2",
   "version": "2.7.10"
  }
 },
 "nbformat": 4,
 "nbformat_minor": 0
}
