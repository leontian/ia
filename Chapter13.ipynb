{
 "cells": [
  {
   "cell_type": "markdown",
   "metadata": {},
   "source": [
    "# Chapter 13 Red-Black Trees\n",
    "## Notes\n",
    "\n",
    "### Properties\n",
    "\n",
    "One more attribute added to binary search trees: color, which is either red or black.\n",
    "\n",
    "1. every node is either red or black\n",
    "2. the root is black\n",
    "3. every leaf(NIL) is black\n",
    "4. If a node is red, then both its children are black\n",
    "5. For each node, all simple paths from node to descendant leaves contain the same number of black nodes\n",
    "\n",
    "By property 5, **black-height**, the number of black nodes on any simple path from, but not including a node $x$ down to a leaf, is well defined.\n",
    " \n",
    "> A red-black tree with $n$ internal nodes has height at most $2\\lg (n+1)$.\n",
    "\n",
    "Proof. \n",
    "- Claim that the subtree rooted at any node $x$ contains at least $2^{bh(x)}-1$ internal nodes. \n",
    "- This can be proved by induction on the height of $x$ (not black-height) based on the observation that each child (less height) has black height either $bh(x)-1$ or $bh(x)$. \n",
    "- Also it's clear that $bh(root) \\geq h/2$\n",
    "- $n > 2^{bh(x)}-1 \\geq 2^{h/2} - 1 \\Rightarrow  h\\leq 2\\lg(n+1)$\n",
    "\n",
    "Search, Minimum, Maximum, Successor and Prodecessor can be done in $O(\\lg n)$ time."
   ]
  },
  {
   "cell_type": "markdown",
   "metadata": {},
   "source": [
    "### Rotations\n",
    "rotation is a local operation that preserves the binary search tree property\n",
    "\n",
    "<img src=\"img/13-2Rotations.png\">\n",
    "\n",
    "$\\alpha < x < y < \\gamma$ and $x <\\beta < y$ are preserved."
   ]
  },
  {
   "cell_type": "code",
   "execution_count": 2,
   "metadata": {
    "collapsed": true
   },
   "outputs": [],
   "source": [
    "def left_rotate(T, x):\n",
    "    y = x.right\n",
    "    x.right = y.left\n",
    "    if y.left != T.nil:\n",
    "        y.left.p = x\n",
    "    y.p = x.p\n",
    "    if x.p == T.nil:\n",
    "        T.root = y\n",
    "    elif x ==x.p.left:\n",
    "        x.p.left = y\n",
    "    else:\n",
    "        x.p.right = y\n",
    "    y.left = x\n",
    "    x.p = y"
   ]
  },
  {
   "cell_type": "markdown",
   "metadata": {},
   "source": [
    "### Insertion\n",
    "\n",
    "We can insert a node into an $n$-node red-black tree in $O(\\lg n)$ time. To do so, we use a slightly modified version of the tree-insert procedure to insert node $z$ into the tree T as if it were an ordinary binary tree, and then we color $z$ red. To guarantee that"
   ]
  },
  {
   "cell_type": "markdown",
   "metadata": {},
   "source": [
    "## Exercises\n",
    "### 13.1-1"
   ]
  },
  {
   "cell_type": "markdown",
   "metadata": {},
   "source": [
    "### 13.1-2\n",
    "\n",
    "No, its parent is red, by 4) it has to be black.\n",
    "\n",
    "No, black-height changed, 5) no longer holds."
   ]
  },
  {
   "cell_type": "markdown",
   "metadata": {},
   "source": [
    "### 13.1-3"
   ]
  },
  {
   "cell_type": "markdown",
   "metadata": {},
   "source": [
    "### 13.1-4"
   ]
  },
  {
   "cell_type": "markdown",
   "metadata": {},
   "source": [
    "### 13.1-5"
   ]
  },
  {
   "cell_type": "markdown",
   "metadata": {},
   "source": [
    "### 13.1-6"
   ]
  },
  {
   "cell_type": "markdown",
   "metadata": {},
   "source": [
    "### 13.1-7"
   ]
  },
  {
   "cell_type": "markdown",
   "metadata": {},
   "source": [
    "### 13.2-1"
   ]
  },
  {
   "cell_type": "code",
   "execution_count": 3,
   "metadata": {
    "collapsed": true
   },
   "outputs": [],
   "source": [
    "def right_rotate(T, y):\n",
    "    x = y.left\n",
    "    y.left = x.right\n",
    "    if x.right != T.nil:\n",
    "        x.right.p = y\n",
    "    x.p = y.p\n",
    "    if y.p == T.nil:\n",
    "        T.root = x\n",
    "    elif y ==y.p.left:\n",
    "        y.p.left = x\n",
    "    else:\n",
    "        y.p.right = x\n",
    "    x.right = y\n",
    "    y.p = x"
   ]
  },
  {
   "cell_type": "markdown",
   "metadata": {},
   "source": [
    "### 13.2-2\n",
    "each rotation corresponds to one edge, there are $(n-1)$ edges in a $n$-node binary tree."
   ]
  },
  {
   "cell_type": "markdown",
   "metadata": {},
   "source": [
    "### 13.2-3"
   ]
  },
  {
   "cell_type": "markdown",
   "metadata": {},
   "source": [
    "### 13.2-4"
   ]
  },
  {
   "cell_type": "markdown",
   "metadata": {},
   "source": [
    "### 13.2-5"
   ]
  },
  {
   "cell_type": "markdown",
   "metadata": {},
   "source": [
    "## Problems"
   ]
  }
 ],
 "metadata": {
  "kernelspec": {
   "display_name": "Python 2",
   "language": "python",
   "name": "python2"
  },
  "language_info": {
   "codemirror_mode": {
    "name": "ipython",
    "version": 2
   },
   "file_extension": ".py",
   "mimetype": "text/x-python",
   "name": "python",
   "nbconvert_exporter": "python",
   "pygments_lexer": "ipython2",
   "version": "2.7.10"
  }
 },
 "nbformat": 4,
 "nbformat_minor": 0
}
