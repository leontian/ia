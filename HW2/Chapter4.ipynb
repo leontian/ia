{
 "cells": [
  {
   "cell_type": "markdown",
   "metadata": {},
   "source": [
    "# Chapter 4 Divide-and-Conquer\n",
    "## Notes\n",
    "\n",
    "### Solving recurrences \n",
    "To obtain asymptotic $\\Theta$ or $O$ bounds on the solution.\n",
    "\n",
    "- substitution method, we guess a bound and then use mathematical induction to porve our guess correct\n",
    "\n",
    "- recursion-tree method, converts the recurrence into a tree whose nodes represent the ocsts incurred at various level of recursion. We suse techniques for bounding summations to solve the recurrence.\n",
    "\n",
    "- The master method provides bounds for recurrences of the form\n",
    "$$T(n) = aT(n/b) + f(n)$$ where $a\\geq 1, b > 1$ and $f(n)$ is a given function.\n",
    "\n",
    "\n",
    "### Maximum-Subarray\n",
    "1. recursive algorithm:\n",
    "    1. find maximum left-subarray\n",
    "    2. find maximum right-subarray\n",
    "    3. find maximum crossing subarray\n",
    "    \n",
    "    Key is to see that step 1 and 2 are subproblems which are essentially equivalent to the original problem, and all 3 steps become the same if the length of the array is 1.\n",
    "    \n",
    "### Strassen's algorithm for matrix multiplication\n",
    "\n",
    "#TODO"
   ]
  },
  {
   "cell_type": "code",
   "execution_count": 26,
   "metadata": {
    "collapsed": false
   },
   "outputs": [
    {
     "name": "stdout",
     "output_type": "stream",
     "text": [
      "(0, 4, 15)\n",
      "(0, 4, 10)\n",
      "10000 loops, best of 3: 45.2 µs per loop\n"
     ]
    },
    {
     "data": {
      "text/plain": [
       "(7, 10, 43)"
      ]
     },
     "execution_count": 26,
     "metadata": {},
     "output_type": "execute_result"
    }
   ],
   "source": [
    "def find_max_crossing_subarray(A, low, mid, high):\n",
    "    left_sum = -float('inf')\n",
    "    sum = 0\n",
    "    for i in range(mid, low-1, -1):\n",
    "        sum = sum + A[i]\n",
    "        if sum > left_sum:\n",
    "            left_sum = sum\n",
    "            max_left = i\n",
    "    right_sum = -float('inf')\n",
    "    sum = 0\n",
    "    for i in range(mid + 1, high + 1):\n",
    "        sum = sum + A[i]\n",
    "        if sum > right_sum:\n",
    "            right_sum = sum\n",
    "            max_right = i\n",
    "    return (max_left, max_right, left_sum + right_sum)\n",
    "\n",
    "# test\n",
    "# find_max_crossing_subarray([3, -2, -2, 3, -1], 0, 2, 4)\n",
    "\n",
    "def find_maximum_subarray(A, low, high):\n",
    "    if high == low:\n",
    "        return (low, high, A[low])\n",
    "    else:\n",
    "        mid = (low + high) / 2\n",
    "        (left_low, left_high, left_sum) = find_maximum_subarray(A, low, mid)\n",
    "        (right_low, right_high, right_sum) = find_maximum_subarray(A, mid+1, high)\n",
    "        (cross_low, cross_high, cross_sum) = find_max_crossing_subarray(A, low, mid, high)\n",
    "        if left_sum >= right_sum and left_sum >= cross_sum:\n",
    "            return (left_low, left_high, left_sum)\n",
    "        elif right_sum >= left_sum and right_sum >= cross_sum:\n",
    "            return (right_low, right_high, right_sum)\n",
    "        else: return (cross_low, cross_high, cross_sum)\n",
    "\n",
    "\n",
    "        \n",
    "A = [1, 2, 3, 4, 5]\n",
    "print find_maximum_subarray(A, 0, len(A) - 1)\n",
    "A = [2, 2, -3, 4, 5]\n",
    "print find_maximum_subarray(A, 0, len(A) - 1)\n",
    "A = [13, -3, -25, 20, -3, -16 , -23, 18, 20, -7, 12, -5, -22, 15, -4, 7]  \n",
    "%timeit find_maximum_subarray(A, 0, len(A) - 1)\n",
    "find_maximum_subarray(A, 0, len(A)-1)\n"
   ]
  },
  {
   "cell_type": "markdown",
   "metadata": {},
   "source": [
    "## Exercises\n",
    "### 4.1-1\n",
    "returns a single element array that contains the maximum element of $A$ and its index\n"
   ]
  },
  {
   "cell_type": "markdown",
   "metadata": {},
   "source": [
    "### 4.1-2"
   ]
  },
  {
   "cell_type": "code",
   "execution_count": 25,
   "metadata": {
    "collapsed": false
   },
   "outputs": [
    {
     "name": "stdout",
     "output_type": "stream",
     "text": [
      "(0, 4, 15)\n",
      "(0, 4, 10)\n",
      "10000 loops, best of 3: 81.6 µs per loop\n"
     ]
    },
    {
     "data": {
      "text/plain": [
       "(7, 10, 43)"
      ]
     },
     "execution_count": 25,
     "metadata": {},
     "output_type": "execute_result"
    }
   ],
   "source": [
    "def brute_force_max_subarray(A):\n",
    "    max_sum = 0\n",
    "    a = 0\n",
    "    b = 0\n",
    "    for i in range(len(A)):\n",
    "        for j in range(i, len(A)):\n",
    "            temp = sum(A[i:j+1])\n",
    "            if max_sum < temp:\n",
    "                max_sum = temp\n",
    "                a = i\n",
    "                b = j\n",
    "    return (a, b, max_sum)\n",
    "\n",
    "A = [1, 2, 3, 4, 5]\n",
    "print brute_force_max_subarray(A)\n",
    "A = [2, 2, -3, 4, 5]\n",
    "print brute_force_max_subarray(A)\n",
    "A = [13, -3, -25, 20, -3, -16 , -23, 18, 20, -7, 12, -5, -22, 15, -4, 7]\n",
    "%timeit brute_force_max_subarray(A)\n",
    "brute_force_max_subarray(A)"
   ]
  },
  {
   "cell_type": "markdown",
   "metadata": {},
   "source": [
    "### 4.1-5"
   ]
  },
  {
   "cell_type": "code",
   "execution_count": 44,
   "metadata": {
    "collapsed": false
   },
   "outputs": [
    {
     "name": "stdout",
     "output_type": "stream",
     "text": [
      "(0, 4, 15)\n",
      "(0, 1, 10)\n",
      "100000 loops, best of 3: 3.45 µs per loop\n",
      "(7, 10, 43)\n"
     ]
    }
   ],
   "source": [
    "def linear_max_subarray(A):\n",
    "    max_sum = 0\n",
    "    current_sum = 0\n",
    "    start = 0\n",
    "    end = 0\n",
    "    for i in range(len(A)):\n",
    "        current_sum += A[i]\n",
    "        if max_sum < current_sum:\n",
    "            end = i\n",
    "            max_sum = current_sum\n",
    "            #print end, max_sum\n",
    "        if current_sum < 0:\n",
    "            current_sum = 0\n",
    "            #start = i + 1 #wrong\n",
    "    temp = 0\n",
    "    for i in range(end, 0, -1):\n",
    "        temp += A[i]\n",
    "        if temp == max_sum:\n",
    "            start = i\n",
    "            break;\n",
    "    return (start, end, max_sum)\n",
    "\n",
    "A = [1, 2, 3, 4, 5]\n",
    "print linear_max_subarray(A)\n",
    "A = [5, 5, -11, 4, 5]\n",
    "print linear_max_subarray(A)\n",
    "\n",
    "A = [13, -3, -25, 20, -3, -16 , -23, 18, 20, -7, 12, -5, -22, 15, -4, 7]\n",
    "%timeit linear_max_subarray(A)\n",
    "print linear_max_subarray(A)"
   ]
  },
  {
   "cell_type": "code",
   "execution_count": null,
   "metadata": {
    "collapsed": true
   },
   "outputs": [],
   "source": []
  }
 ],
 "metadata": {
  "kernelspec": {
   "display_name": "Python 2",
   "language": "python",
   "name": "python2"
  },
  "language_info": {
   "codemirror_mode": {
    "name": "ipython",
    "version": 2
   },
   "file_extension": ".py",
   "mimetype": "text/x-python",
   "name": "python",
   "nbconvert_exporter": "python",
   "pygments_lexer": "ipython2",
   "version": "2.7.10"
  }
 },
 "nbformat": 4,
 "nbformat_minor": 0
}
