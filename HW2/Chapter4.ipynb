{
 "metadata": {
  "name": "",
  "signature": "sha256:3357e8830d3f6b10fd351e7f6dc4f8a3d8008353d7d283513d3b638341fe513b"
 },
 "nbformat": 3,
 "nbformat_minor": 0,
 "worksheets": [
  {
   "cells": [
    {
     "cell_type": "markdown",
     "metadata": {},
     "source": [
      "# Divide-and-Conquer\n",
      "## maximum-subarray\n",
      "1. recursive algorithm:\n",
      "    1. find maximum left-subarray\n",
      "    2. find maximum right-subarray\n",
      "    3. find maximum crossing subarray\n",
      "    \n",
      "    Key is to see that step 1 and 2 are subproblems which are essentially equivalent to the original problem, and all 3 steps become the same if the length of the array is 1."
     ]
    },
    {
     "cell_type": "code",
     "collapsed": false,
     "input": [],
     "language": "python",
     "metadata": {},
     "outputs": []
    }
   ],
   "metadata": {}
  }
 ]
}