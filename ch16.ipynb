{
 "cells": [
  {
   "cell_type": "markdown",
   "metadata": {},
   "source": [
    "# Chapter 16\n",
    "## Notes\n",
    "\n",
    "For many optimization problems, using dynamic programming to determine the best choices is overkill; simpler, more efficient algorithms will do. A greedy algorithm always makes the choice that looks best at the moment. That is, it makes a locally optimal choice in the hope that this choice will lead to a globally optimal solution."
   ]
  },
  {
   "cell_type": "markdown",
   "metadata": {},
   "source": [
    "### An activity-selection problem\n",
    "\n",
    "Optimal structure. The optimal solution includes optimal solutions to subproblems.\n",
    "\n",
    "> Consider any nonempty subproblem $S_k$, and let $a_m$ be an activity in $S_k$ with the earliest finish time. Then $a_m$ is included in some maximum-size subset of mutually compatible activities of $S_k$.\n",
    "\n",
    "Greedy algorithms typically have this top-down design: make a choice and then solve a subproblem, rather than the bottom-up technique of solving subproblems before making a choice.\n",
    "\n",
    "A recursive algorithm:\n",
    "\n",
    "```\n",
    "Recursive-Activity-Selector(s, f, k, n) \n",
    "    m = k + 1\n",
    "    while m <= n and s[m] < f[k]\n",
    "        m = m + 1\n",
    "    if m <= n\n",
    "        return {a_m}\\cup Recursive-Activity-Selector(s, f, m, n)\n",
    "    else return \\emptyset\n",
    "```\n",
    "\n",
    "It is usually a straightforward task to transform a tail-recursive procedure to an iterative form; in fact, some compilers for certain programming languages perform this task automatically. \n",
    "\n",
    "```\n",
    "Greedy-Actitity-Selector(s, f)\n",
    "    n = s.length\n",
    "    A = {a_1}\n",
    "    k = 1\n",
    "    for m = 2 to n\n",
    "        if s[m] >= f[k]\n",
    "            A = A\\cup {a_m}\n",
    "            k = m\n",
    "    return A\n",
    "```\n",
    "\n",
    "### Elements of the greedy strategy\n",
    "\n",
    "1. Greedy-choice property: we can assemble a globally optimal solution by making locally optimal (greedy) choices.\n",
    "2. Optimal substructure:  an optimal solution to the problem contains within it optimal solutions to subproblems.\n",
    "\n"
   ]
  },
  {
   "cell_type": "markdown",
   "metadata": {},
   "source": [
    "Exercise: TODO\n",
    "\n",
    "- Activity selector: maximize usage instead of number of activities."
   ]
  },
  {
   "cell_type": "markdown",
   "metadata": {},
   "source": [
    "### Huffman codes\n",
    "\n",
    "An optimal code for a file is always represented by a full binary tree, in which every nonleaf node has two children.\n",
    "\n",
    "Huffman invented a greedy algorithm that constructs an optimal prefix code called a Huffman code.\n",
    "\n",
    "```\n",
    "Huffman(C)\n",
    "    n = |C|\n",
    "    Q = C\n",
    "    for i = 1 to n-1 \n",
    "        allocate a new node z\n",
    "        z.left = x = Extract-Min(Q)\n",
    "        z.right = y = Extract-Min(Q)\n",
    "        z.freq = x.freq + y.freq\n",
    "        Insert(Q, z)\n",
    "    return Extract-Min(Q)\n",
    "```"
   ]
  },
  {
   "cell_type": "markdown",
   "metadata": {
    "collapsed": true
   },
   "source": [
    "### DP examples:\n",
    "\n",
    "#### Checkboard:\n",
    "\n",
    "$m\\times n$ checkboard, $P[i, j]\\geq 0$\n",
    "\n",
    "Task: \n",
    "- start anywhere on first row\n",
    "- advance up with 1/3 possibilities\n",
    "- finish anywhere last row\n",
    "- (DP): minimize overall penalty\n",
    "\n",
    "#### Discrete Knapsack:\n",
    "\n",
    "Z, value[1..n], weight[1..n]\n",
    "\n",
    "Task:\n",
    "- maximize $\\sum val$ constrained by $\\sum w\\leq Z$"
   ]
  },
  {
   "cell_type": "markdown",
   "metadata": {},
   "source": [
    "## Exercises"
   ]
  },
  {
   "cell_type": "markdown",
   "metadata": {},
   "source": [
    "## Problems"
   ]
  },
  {
   "cell_type": "code",
   "execution_count": null,
   "metadata": {
    "collapsed": true
   },
   "outputs": [],
   "source": []
  }
 ],
 "metadata": {
  "kernelspec": {
   "display_name": "Python 3",
   "language": "python",
   "name": "python3"
  },
  "language_info": {
   "codemirror_mode": {
    "name": "ipython",
    "version": 3
   },
   "file_extension": ".py",
   "mimetype": "text/x-python",
   "name": "python",
   "nbconvert_exporter": "python",
   "pygments_lexer": "ipython3",
   "version": "3.5.1"
  }
 },
 "nbformat": 4,
 "nbformat_minor": 0
}
