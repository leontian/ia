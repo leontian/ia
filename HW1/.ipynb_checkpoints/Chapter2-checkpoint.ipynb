{
 "metadata": {
  "name": "",
  "signature": "sha256:7862b2a70dbd1a636e2c9d7205a970b0d5ab9dc763d9e33c0d5b735c5d2a813c"
 },
 "nbformat": 3,
 "nbformat_minor": 0,
 "worksheets": []
}