{
 "metadata": {
  "name": "",
  "signature": "sha256:59032a8bcade62eeca848696b197213a33ea2be9236f63ecf2ab86b6ac9fff2f"
 },
 "nbformat": 3,
 "nbformat_minor": 0,
 "worksheets": [
  {
   "cells": [
    {
     "cell_type": "code",
     "collapsed": false,
     "input": [],
     "language": "python",
     "metadata": {},
     "outputs": []
    }
   ],
   "metadata": {}
  }
 ]
}