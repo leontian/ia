{
 "metadata": {
  "name": "",
  "signature": "sha256:0e13c768f2ae34620c48e47bffa06d133582266206193246a27f2ade218c3914"
 },
 "nbformat": 3,
 "nbformat_minor": 0,
 "worksheets": [
  {
   "cells": [
    {
     "cell_type": "markdown",
     "metadata": {},
     "source": [
      "# Chapter 2\n",
      "## Notes\n",
      "Merge sort running time:\n",
      "The resursion tree has about $log_2n$ levels and each takes $\\Theta(n)$ to merge back to upper level. So it's $nlog_2n$."
     ]
    },
    {
     "cell_type": "markdown",
     "metadata": {},
     "source": [
      "## Exercises\n",
      "### 2.1-2\n",
      "\n",
      "```\n",
      "Non-Increasing-Insersion-Sort(A)\n",
      "for j = 2 to A.length\n",
      "    key = A[j]\n",
      "    i = j - 1\n",
      "    while i > 0 A[i] < key\n",
      "        A[i+1] = A[i]\n",
      "        i = i - 1\n",
      "    A[i+1] = key\n",
      "```\n",
      "\n",
      "### 2.1-3\n",
      "```\n",
      "LinearSearch(A, v)\n",
      "for i = 1 to A.length\n",
      "    if v == A[i]\n",
      "        return i\n",
      "return NIL \n",
      "```\n",
      "Loop invariant: the sub-sequence A[1..i-1] does not contain v as an element.\n",
      "\n",
      "### 2.1-4\n",
      "Input: Two n-bit binary integers A, B (in forms of n-arrays)\n",
      "Output: (n+1)-bit binary integer C which is the sum of integers A and B\n",
      "\n",
      "Pseudocode:\n",
      "```\n",
      "Sum(A, B)\n",
      "C initialized as n+1 array filled with 0\n",
      "for i = n to 1 step -1\n",
      "    C[i+1] = (A[i] + B[i] +C[i+1])%2\n",
      "    C[i] = (A[i] + B[i] + C[i+1])/2\n",
      "return C\n",
      "```\n",
      "\n",
      "### 2.2-2\n",
      "### 2.2-3\n",
      "### 2.2-4\n",
      "Check whether the input itself is already our desired output before doing further computations.\n",
      "### 2.3-2\n",
      "```\n",
      "Merge_Without_Sentinel(A, p, q, r)\n",
      "n_1 = q - p + 1\n",
      "n_2 = r - q\n",
      "let L[1..n_1] and R[1..n_2] be new arrays\n",
      "for i = 1 to n_1\n",
      "    L[i] = A[p+i-q]\n",
      "for j = 1 to n_1\n",
      "    R[j] = A[q+j]\n",
      "i = 1\n",
      "j = 1\n",
      "for k = p to r\n",
      "    if j > n_2\n",
      "        A[k] = L[i]\n",
      "        i = i + 1\n",
      "    else if i > n_1\n",
      "        A[k] = R[j]\n",
      "        j = j + 1\n",
      "    else\n",
      "        if L[i] <= R[j]\n",
      "            A[k] = L[i]\n",
      "            i = i + 1\n",
      "        else\n",
      "            A[k] = R[j]\n",
      "            j = j + 1\n",
      "            \\\\this part can be simplified.\n",
      "```\n",
      "\n",
      "###2.3-5\n",
      "worst case you have to go down to the lowest level of the resursion tree before you can find the target.\n",
      "\n",
      "### 2.3-6\n",
      "No, it takes less time to search but it take same amount of time to rearrange the array.\n",
      "\n",
      "### 2.3-7\n"
     ]
    },
    {
     "cell_type": "markdown",
     "metadata": {},
     "source": [
      "# Python Code"
     ]
    },
    {
     "cell_type": "code",
     "collapsed": false,
     "input": [],
     "language": "python",
     "metadata": {},
     "outputs": []
    },
    {
     "cell_type": "markdown",
     "metadata": {},
     "source": [
      "# C code"
     ]
    },
    {
     "cell_type": "code",
     "collapsed": false,
     "input": [
      "%%file merge_sort.c\n",
      "\n",
      "#include <stdio.h>\n",
      "\n",
      "void hello(int n);\n",
      "\n",
      "double dprod(double *x, int n);\n",
      "\n",
      "void dcumsum(double *a, double *b, int n);\n",
      "\n",
      "void\n",
      "hello(int n)\n",
      "{\n",
      "    int i;\n",
      "    \n",
      "    for (i = 0; i < n; i++)\n",
      "    {\n",
      "        printf(\"C says hello\\n\");\n",
      "    }\n",
      "}\n",
      "\n",
      "\n",
      "int main()\n",
      "{\n",
      "    hello(5);\n",
      "}"
     ],
     "language": "python",
     "metadata": {},
     "outputs": [
      {
       "output_type": "stream",
       "stream": "stdout",
       "text": [
        "Writing merge_sort.c\n"
       ]
      }
     ],
     "prompt_number": 14
    },
    {
     "cell_type": "code",
     "collapsed": false,
     "input": [
      "!gcc merge_sort.c -o merge_sort.out\n",
      "!./merge_sort.out"
     ],
     "language": "python",
     "metadata": {},
     "outputs": [
      {
       "output_type": "stream",
       "stream": "stdout",
       "text": [
        "C says hello\r\n",
        "C says hello\r\n",
        "C says hello\r\n",
        "C says hello\r\n",
        "C says hello\r\n"
       ]
      }
     ],
     "prompt_number": 17
    },
    {
     "cell_type": "code",
     "collapsed": false,
     "input": [],
     "language": "python",
     "metadata": {},
     "outputs": []
    }
   ],
   "metadata": {}
  }
 ]
}