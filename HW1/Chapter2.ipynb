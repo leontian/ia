{
 "cells": [
  {
   "cell_type": "markdown",
   "metadata": {},
   "source": [
    "# Chapter 2\n",
    "## Notes\n",
    "\n",
    "### Insertion Sort\n",
    "\n",
    "best case: lienar\n",
    "\n",
    "worst case: $\\Theta(n^2)$"
   ]
  },
  {
   "cell_type": "code",
   "execution_count": 7,
   "metadata": {
    "collapsed": false
   },
   "outputs": [
    {
     "data": {
      "text/plain": [
       "[1, 2, 2, 3, 4]"
      ]
     },
     "execution_count": 7,
     "metadata": {},
     "output_type": "execute_result"
    }
   ],
   "source": [
    "def insertion_sort_reversed(A):\n",
    "    for j in range(1, len(A)):\n",
    "        key = A[j]\n",
    "        i = j - 1\n",
    "        while i >= 0 and A[i] > key:\n",
    "            A[i+1] = A[i]\n",
    "            i -= 1\n",
    "        A[i+1] = key\n",
    "\n",
    "x = [2, 3, 1, 4, 2]\n",
    "insertion_sort_reversed(x)\n",
    "x"
   ]
  },
  {
   "cell_type": "markdown",
   "metadata": {},
   "source": [
    "### Divide-and conquer approach\n",
    "\n",
    "Many useful algorithms are recursive in structure.\n",
    "\n",
    "Break the broblem into several subproblems that are similar to the original problem but smaller in size, solve the subproblems recursively, and then combine these solutions to create a solution to the original problem.\n",
    "\n",
    "At EACH level of the recursion:\n",
    "\n",
    "1. Divide the problem into a number of subproblems that are smaller instances of the same problem.\n",
    "2. Conquer the subproblems by solving them recursively. If the subproblem sizes are small enough, however, just solve the subproblems in a straightforward manner.\n",
    "3. Combine the solutions to the subproblems into the solution for the original problem."
   ]
  },
  {
   "cell_type": "markdown",
   "metadata": {},
   "source": [
    "Merge sort running time:\n",
    "The resursion tree has about $log_2n$ levels and each takes $\\Theta(n)$ to merge back to upper level. So it's $nlog_2n$.\n",
    "\n",
    "See 2.3-2 for implementation."
   ]
  },
  {
   "cell_type": "markdown",
   "metadata": {},
   "source": [
    "## Exercises\n",
    "### 2.1-2\n",
    "\n",
    "```\n",
    "Non-Increasing-Insersion-Sort(A)\n",
    "    for j = 2 to A.length\n",
    "        key = A[j]\n",
    "        i = j - 1\n",
    "        while i > 0 and A[i] < key\n",
    "            A[i+1] = A[i]\n",
    "            i = i - 1\n",
    "        A[i+1] = key\n",
    "```"
   ]
  },
  {
   "cell_type": "code",
   "execution_count": 6,
   "metadata": {
    "collapsed": false
   },
   "outputs": [
    {
     "data": {
      "text/plain": [
       "[4, 3, 2, 2, 1]"
      ]
     },
     "execution_count": 6,
     "metadata": {},
     "output_type": "execute_result"
    }
   ],
   "source": [
    "def insertion_sort_reversed(A):\n",
    "    for j in range(1, len(A)):\n",
    "        key = A[j]\n",
    "        i = j - 1\n",
    "        while i >= 0 and A[i] < key:\n",
    "            A[i+1] = A[i]\n",
    "            i -= 1\n",
    "        A[i+1] = key\n",
    "\n",
    "x = [2, 3, 1, 4, 2]\n",
    "insertion_sort_reversed(x)\n",
    "x"
   ]
  },
  {
   "cell_type": "markdown",
   "metadata": {},
   "source": [
    "### 2.1-3\n",
    "```\n",
    "LinearSearch(A, v)\n",
    "    for i = 1 to A.length\n",
    "        if v == A[i]\n",
    "            return i\n",
    "    return NIL \n",
    "```\n",
    "Loop invariant: the sub-sequence A[1..i-1] does not contain v as an element."
   ]
  },
  {
   "cell_type": "markdown",
   "metadata": {},
   "source": [
    "### 2.1-4\n",
    "Input: Two n-bit binary integers A, B (in forms of n-arrays)\n",
    "Output: (n+1)-bit binary integer C which is the sum of integers A and B\n",
    "\n",
    "Pseudocode:\n",
    "```\n",
    "Sum(A, B)\n",
    "    C initialized as n+1 array filled with 0\n",
    "    for i = n to 1 step -1\n",
    "        C[i+1] = (A[i] + B[i] +C[i+1])%2\n",
    "        C[i] = (A[i] + B[i] + C[i+1])/2\n",
    "    return C\n",
    "```"
   ]
  },
  {
   "cell_type": "markdown",
   "metadata": {},
   "source": [
    "### 2.2-1\n",
    "$\\Theta(n^3)$"
   ]
  },
  {
   "cell_type": "markdown",
   "metadata": {},
   "source": [
    "### 2.2-2\n",
    "\n",
    "``` \n",
    "Selection-Sort(A)\n",
    "    n = A.length\n",
    "    for i = 1 to n-1\n",
    "        j = Find_Minimum(A, i, n)\n",
    "        temp = A[i]\n",
    "        A[i] = A[j]\n",
    "        A[j] = A[i]\n",
    "\n",
    "//returns index of minimum\n",
    "Find_Minimum(A, i, n)\n",
    "    min = i\n",
    "    for k = i + 1 to n\n",
    "        if A[k] < A[i]\n",
    "            min = k\n",
    "    return min\n",
    "```\n",
    "Loop invariant: A[1..i] is sorted.\n",
    "\n",
    "n-th element is automatically the smallest and inserted.\n",
    "\n",
    "both $\\Theta(n^2)$\n",
    "    "
   ]
  },
  {
   "cell_type": "markdown",
   "metadata": {},
   "source": [
    "### 2.2-3\n",
    "\n",
    "Half of them on average. All in the worst case. $\\Theta(n)$"
   ]
  },
  {
   "cell_type": "markdown",
   "metadata": {},
   "source": [
    "### 2.2-4\n",
    "Check whether the input itself is already our desired output before doing further computations."
   ]
  },
  {
   "cell_type": "markdown",
   "metadata": {},
   "source": [
    "### 2.3-2\n",
    "```\n",
    "Merge_Without_Sentinel(A, p, q, r)\n",
    "n_1 = q - p + 1\n",
    "n_2 = r - q\n",
    "let L[1..n_1] and R[1..n_2] be new arrays\n",
    "for i = 1 to n_1\n",
    "    L[i] = A[p+i-q]\n",
    "for j = 1 to n_1\n",
    "    R[j] = A[q+j]\n",
    "i = 1\n",
    "j = 1\n",
    "for k = p to r\n",
    "    if j > n_2\n",
    "        A[k] = L[i]\n",
    "        i = i + 1\n",
    "    else if i > n_1\n",
    "        A[k] = R[j]\n",
    "        j = j + 1\n",
    "    else\n",
    "        if L[i] <= R[j]\n",
    "            A[k] = L[i]\n",
    "            i = i + 1\n",
    "        else\n",
    "            A[k] = R[j]\n",
    "            j = j + 1\n",
    "            \\\\this part can be simplified.\n",
    "```"
   ]
  },
  {
   "cell_type": "code",
   "execution_count": 13,
   "metadata": {
    "collapsed": false
   },
   "outputs": [
    {
     "ename": "IndexError",
     "evalue": "list index out of range",
     "output_type": "error",
     "traceback": [
      "\u001b[0;31m---------------------------------------------------------------------------\u001b[0m",
      "\u001b[0;31mIndexError\u001b[0m                                Traceback (most recent call last)",
      "\u001b[0;32m<ipython-input-13-6ed50106d91a>\u001b[0m in \u001b[0;36m<module>\u001b[0;34m()\u001b[0m\n\u001b[1;32m     26\u001b[0m \u001b[0;34m\u001b[0m\u001b[0m\n\u001b[1;32m     27\u001b[0m \u001b[0mx\u001b[0m \u001b[0;34m=\u001b[0m \u001b[0;34m[\u001b[0m\u001b[0;36m5\u001b[0m\u001b[0;34m,\u001b[0m \u001b[0;36m4\u001b[0m\u001b[0;34m,\u001b[0m \u001b[0;36m3\u001b[0m\u001b[0;34m,\u001b[0m \u001b[0;36m2\u001b[0m\u001b[0;34m,\u001b[0m \u001b[0;36m1\u001b[0m\u001b[0;34m]\u001b[0m\u001b[0;34m\u001b[0m\u001b[0m\n\u001b[0;32m---> 28\u001b[0;31m \u001b[0mmerge\u001b[0m\u001b[0;34m(\u001b[0m\u001b[0mx\u001b[0m\u001b[0;34m,\u001b[0m \u001b[0;36m0\u001b[0m\u001b[0;34m,\u001b[0m \u001b[0;36m2\u001b[0m\u001b[0;34m,\u001b[0m \u001b[0mlen\u001b[0m\u001b[0;34m(\u001b[0m\u001b[0mx\u001b[0m\u001b[0;34m)\u001b[0m\u001b[0;34m)\u001b[0m\u001b[0;34m\u001b[0m\u001b[0m\n\u001b[0m\u001b[1;32m     29\u001b[0m \u001b[0mx\u001b[0m\u001b[0;34m\u001b[0m\u001b[0m\n\u001b[1;32m     30\u001b[0m \u001b[0;34m\u001b[0m\u001b[0m\n",
      "\u001b[0;32m<ipython-input-13-6ed50106d91a>\u001b[0m in \u001b[0;36mmerge\u001b[0;34m(A, p, q, r)\u001b[0m\n\u001b[1;32m     11\u001b[0m             \u001b[0mA\u001b[0m\u001b[0;34m[\u001b[0m\u001b[0mk\u001b[0m\u001b[0;34m]\u001b[0m \u001b[0;34m=\u001b[0m \u001b[0mR\u001b[0m\u001b[0;34m[\u001b[0m\u001b[0mj\u001b[0m\u001b[0;34m]\u001b[0m\u001b[0;34m\u001b[0m\u001b[0m\n\u001b[1;32m     12\u001b[0m             \u001b[0mj\u001b[0m \u001b[0;34m+=\u001b[0m \u001b[0;36m1\u001b[0m\u001b[0;34m\u001b[0m\u001b[0m\n\u001b[0;32m---> 13\u001b[0;31m         \u001b[0;32melif\u001b[0m \u001b[0mL\u001b[0m\u001b[0;34m[\u001b[0m\u001b[0mi\u001b[0m\u001b[0;34m]\u001b[0m \u001b[0;34m<=\u001b[0m \u001b[0mR\u001b[0m\u001b[0;34m[\u001b[0m\u001b[0mj\u001b[0m\u001b[0;34m]\u001b[0m\u001b[0;34m:\u001b[0m\u001b[0;34m\u001b[0m\u001b[0m\n\u001b[0m\u001b[1;32m     14\u001b[0m             \u001b[0mA\u001b[0m\u001b[0;34m[\u001b[0m\u001b[0mk\u001b[0m\u001b[0;34m]\u001b[0m \u001b[0;34m=\u001b[0m \u001b[0mL\u001b[0m\u001b[0;34m[\u001b[0m\u001b[0mi\u001b[0m\u001b[0;34m]\u001b[0m\u001b[0;34m\u001b[0m\u001b[0m\n\u001b[1;32m     15\u001b[0m             \u001b[0mi\u001b[0m \u001b[0;34m+=\u001b[0m \u001b[0;36m1\u001b[0m\u001b[0;34m\u001b[0m\u001b[0m\n",
      "\u001b[0;31mIndexError\u001b[0m: list index out of range"
     ]
    }
   ],
   "source": [
    "def merge(A, p, q, r):\n",
    "    L = A[p:q]\n",
    "    R = A[q:r]\n",
    "    i = 0\n",
    "    j = 0\n",
    "    for k in range(p, r+1):\n",
    "        if j > r - q:\n",
    "            A[k] = L[i]\n",
    "            i += 1\n",
    "        elif i > q - p:\n",
    "            A[k] = R[j]\n",
    "            j += 1\n",
    "        elif L[i] <= R[j]:\n",
    "            A[k] = L[i]\n",
    "            i += 1\n",
    "        else:\n",
    "            A[k] = R[j]\n",
    "            j += 1\n",
    "\n",
    "def merge_sort(A, p, r):\n",
    "    if p < r:\n",
    "        q = (p + r) / 2\n",
    "        merge_sort(A, p, q)\n",
    "        merge_sort(A, q + 1, r)\n",
    "        merge(A, p, q, r)\n",
    "        \n",
    "x = [5, 4, 3, 2, 1]\n",
    "merge(x, 0, 2, len(x))\n",
    "x\n",
    "    "
   ]
  },
  {
   "cell_type": "markdown",
   "metadata": {},
   "source": [
    "###2.3-5\n",
    "worst case you have to go down to the lowest level of the resursion tree before you can find the target.\n",
    "\n",
    "### 2.3-6\n",
    "No, it takes less time to search but it take same amount of time to rearrange the array.\n",
    "\n",
    "### 2.3-7"
   ]
  },
  {
   "cell_type": "code",
   "execution_count": null,
   "metadata": {
    "collapsed": true
   },
   "outputs": [],
   "source": []
  }
 ],
 "metadata": {
  "kernelspec": {
   "display_name": "Python 2",
   "language": "python",
   "name": "python2"
  },
  "language_info": {
   "codemirror_mode": {
    "name": "ipython",
    "version": 2
   },
   "file_extension": ".py",
   "mimetype": "text/x-python",
   "name": "python",
   "nbconvert_exporter": "python",
   "pygments_lexer": "ipython2",
   "version": "2.7.10"
  }
 },
 "nbformat": 4,
 "nbformat_minor": 0
}
