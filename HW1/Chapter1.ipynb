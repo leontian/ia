{
 "metadata": {
  "name": "",
  "signature": "sha256:13848951db003d52888b142f2548cabe0ae9e6817e08582dafcc3988e6581ba9"
 },
 "nbformat": 3,
 "nbformat_minor": 0,
 "worksheets": [
  {
   "cells": [
    {
     "cell_type": "markdown",
     "metadata": {},
     "source": [
      "# Chapter 1\n",
      "### 1.2-2 \n",
      "\n",
      "Insertion runs in $8n^2$ steps while merge sort runs in $64nlgn$ steps.\n",
      "\n",
      "I don't know how you can solve this algebraically, although you can simplify it a little bit. By running a snipplet like \n",
      "\n",
      "```python\n",
      "for i in range(1, 52):\n",
      "  if i < 8*math.log(i, 2):\n",
      "    print i\n",
      "      else:\n",
      "        print i, \"crossover\"\n",
      "```\n",
      "\n",
      "2-43 is the range we are looking for."
     ]
    },
    {
     "cell_type": "code",
     "collapsed": false,
     "input": [],
     "language": "python",
     "metadata": {},
     "outputs": []
    }
   ],
   "metadata": {}
  }
 ]
}