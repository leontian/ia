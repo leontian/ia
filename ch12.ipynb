{
 "cells": [
  {
   "cell_type": "markdown",
   "metadata": {},
   "source": [
    "# Chapter 12\n",
    "\n",
    "## Notes\n",
    "\n",
    "### Querying a binary search tree\n",
    "Binary search trees support queries such as Minimum, Maximum, Successor, Predescessor and each of these operations can be done in $O(h)$ time for a binary search tree of height $h$."
   ]
  },
  {
   "cell_type": "markdown",
   "metadata": {},
   "source": [
    "## Exercises\n",
    "\n",
    "### 12.1-1\n",
    "\n",
    "c and e.\n",
    "\n",
    "If $a[i+1] > a[i]$, then for all $j \\geq i+1$, $a[j] > a[i]$."
   ]
  },
  {
   "cell_type": "code",
   "execution_count": 17,
   "metadata": {
    "collapsed": false
   },
   "outputs": [
    {
     "name": "stdout",
     "output_type": "stream",
     "text": [
      "True\n",
      "True\n",
      "911 912 False\n",
      "True\n",
      "347 299 False\n"
     ]
    }
   ],
   "source": [
    "a = [ 2,252,401,398,330,344,397,363 ]\n",
    "b = [ 924, 220, 911, 244, 898, 258, 362, 363 ]\n",
    "c = [ 925, 202, 911, 240, 912, 245, 363 ]\n",
    "d = [ 2,399,387,219,266,382,381,278,363 ]\n",
    "e = [ 935, 278, 347, 621, 299, 392, 358, 363 ]\n",
    "\n",
    "def test(x):\n",
    "    result = True\n",
    "    for i in range(len(x) - 1):\n",
    "        sign = x[i+1] >= x[i]\n",
    "        for j in range(i + 2, len(x)):\n",
    "            if (x[j] >= x[i]) != sign:\n",
    "                result = False\n",
    "                print x[i], x[j],\n",
    "                break\n",
    "    return result\n",
    "\n",
    "print test(a)\n",
    "print test(b)\n",
    "print test(c)\n",
    "print test(d)\n",
    "print test(e)"
   ]
  },
  {
   "cell_type": "markdown",
   "metadata": {},
   "source": [
    "### 12.2\n",
    "\n",
    "Tree-Minimum"
   ]
  },
  {
   "cell_type": "code",
   "execution_count": 72,
   "metadata": {
    "collapsed": false
   },
   "outputs": [
    {
     "name": "stdout",
     "output_type": "stream",
     "text": [
      "1 2 3 4 5 6 7 \n",
      "\n",
      "1 2 4 5 6 7\n"
     ]
    }
   ],
   "source": [
    "class BinarySearchTree:\n",
    "    def __init__(self, root):\n",
    "        self.root = root\n",
    "\n",
    "class Node:\n",
    "    def __init__(self, key, left, right, p):\n",
    "        self.key = key\n",
    "        self.left = left\n",
    "        self.right = right\n",
    "        self.p = p\n",
    "\n",
    "def tree_minimum(x):\n",
    "    if not x.left:\n",
    "        return x\n",
    "    else:\n",
    "        return tree_minimum(x.left)\n",
    "    \n",
    "def tree_maximum(x):\n",
    "    if not x.right:\n",
    "        return x\n",
    "    else:\n",
    "        return tree_maximum(x.right)\n",
    "    \n",
    "def tree_search(x, k):\n",
    "    if x == None or k == x.key:\n",
    "        return x\n",
    "    if k < x.key:\n",
    "        return tree_search(x.left, k)\n",
    "    else:\n",
    "        return tree_search(x.right, k)\n",
    "\n",
    "def tree_successor(x):\n",
    "    if x.right != None:\n",
    "        return tree_minimum(x.right)\n",
    "    y = x.p\n",
    "    while y != None and x == y.right:\n",
    "        x = y\n",
    "        y = y.p\n",
    "    return y\n",
    "\n",
    "def tree_predecessor(x):\n",
    "    if x.left != None:\n",
    "        return tree_maximum(x.left)\n",
    "    y = x.p\n",
    "    while y != None and x == y.left:\n",
    "        x = y\n",
    "        y = y.p\n",
    "    return y\n",
    "    \n",
    "def iterative_tree_search(x, k):\n",
    "    while x != None and k != x.key:\n",
    "        if k < x.key:\n",
    "            x = x.left\n",
    "        else:\n",
    "            x = x.right\n",
    "    return x\n",
    "    \n",
    "def inorder_tree_walk(x):\n",
    "    if x != None:\n",
    "        inorder_tree_walk(x.left)\n",
    "        print x.key,\n",
    "        inorder_tree_walk(x.right)\n",
    "\n",
    "def tree_insert(T, z):\n",
    "    y = None\n",
    "    x = T.root\n",
    "    while x != None:\n",
    "        y = x\n",
    "        if z.key < x.key:\n",
    "            x = x.left\n",
    "        else:\n",
    "            x = x.right\n",
    "    z.p = y\n",
    "    if y == None:\n",
    "        T.root = z\n",
    "    elif z.key < y.key:\n",
    "        y.left = z\n",
    "    else: y.right = z\n",
    "        \n",
    "def transplant(T, u, v):\n",
    "    if u.p == None:\n",
    "        T.root = v\n",
    "    elif u == u.p.left:\n",
    "        u.p.left = v\n",
    "    else:\n",
    "        u.p.right = v\n",
    "    if v != None:\n",
    "        v.p = u.p # if v == None, actually removed subtree at u\n",
    "\n",
    "def tree_delete(T, z):\n",
    "    if z.left == None:\n",
    "        transplant(T, z, z.right)\n",
    "    elif z.right == None:\n",
    "        transplant(T, z, z.left)\n",
    "    else:\n",
    "        y = tree_minimum(z.right) #successor of z\n",
    "        if y.p != z:\n",
    "            transplant(T, y, y.right)\n",
    "            y.right = z.right\n",
    "            y.right.p = y\n",
    "        transplant(T, z, y)\n",
    "        y.left = z.left\n",
    "        y.left.p = y\n",
    "\n",
    "\n",
    "T = BinarySearchTree(None)\n",
    "for i in [4, 2, 1, 3, 6, 5, 7]:\n",
    "    tree_insert(T, Node(i, None, None, None))\n",
    "\n",
    "inorder_tree_walk(T.root)\n",
    "print \"\\n\"\n",
    "x = tree_search(T.root, 3)\n",
    "if x != None:\n",
    "    tree_delete(T, x)\n",
    "inorder_tree_walk(T.root)\n"
   ]
  },
  {
   "cell_type": "code",
   "execution_count": 75,
   "metadata": {
    "collapsed": false
   },
   "outputs": [
    {
     "data": {
      "text/plain": [
       "3"
      ]
     },
     "execution_count": 75,
     "metadata": {},
     "output_type": "execute_result"
    }
   ],
   "source": []
  },
  {
   "cell_type": "markdown",
   "metadata": {},
   "source": [
    "## Problems"
   ]
  },
  {
   "cell_type": "code",
   "execution_count": null,
   "metadata": {
    "collapsed": true
   },
   "outputs": [],
   "source": []
  }
 ],
 "metadata": {
  "kernelspec": {
   "display_name": "Python 2",
   "language": "python",
   "name": "python2"
  },
  "language_info": {
   "codemirror_mode": {
    "name": "ipython",
    "version": 2
   },
   "file_extension": ".py",
   "mimetype": "text/x-python",
   "name": "python",
   "nbconvert_exporter": "python",
   "pygments_lexer": "ipython2",
   "version": "2.7.10"
  }
 },
 "nbformat": 4,
 "nbformat_minor": 0
}
