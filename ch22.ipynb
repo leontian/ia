{
 "cells": [
  {
   "cell_type": "markdown",
   "metadata": {},
   "source": [
    "# Chapter 22\n",
    "## Notes"
   ]
  },
  {
   "cell_type": "markdown",
   "metadata": {},
   "source": [
    "### Bread-first-search\n",
    "\n",
    "Q is a FIFO queue.\n",
    "```\n",
    "BFS(G, s)\n",
    "    for each vertex u\\in G.V-{s}\n",
    "        u.color = White\n",
    "        u.d = \\infty\n",
    "        u.\\pi = Nil\n",
    "    s.color = Gray\n",
    "    s.d = 0\n",
    "    s.\\pi = Nil\n",
    "    Q = \\emptyset\n",
    "    Enqueue(Q, s)\n",
    "    while Q\\neq \\emptyset\n",
    "        u = Dequeue(Q)\n",
    "        for each v\\in G.Adj[u]\n",
    "            if v.color == White\n",
    "                v.color = Gray\n",
    "                v.d = u.d + 1\n",
    "                v.\\pi = u\n",
    "                Enqueue(Q, v)\n",
    "            u.color = Black\n",
    "```            "
   ]
  },
  {
   "cell_type": "markdown",
   "metadata": {},
   "source": [
    "## Exercises\n"
   ]
  },
  {
   "cell_type": "markdown",
   "metadata": {},
   "source": [
    "## Problems"
   ]
  },
  {
   "cell_type": "code",
   "execution_count": null,
   "metadata": {
    "collapsed": true
   },
   "outputs": [],
   "source": []
  }
 ],
 "metadata": {
  "kernelspec": {
   "display_name": "Python 2",
   "language": "python",
   "name": "python2"
  },
  "language_info": {
   "codemirror_mode": {
    "name": "ipython",
    "version": 2
   },
   "file_extension": ".py",
   "mimetype": "text/x-python",
   "name": "python",
   "nbconvert_exporter": "python",
   "pygments_lexer": "ipython2",
   "version": "2.7.10"
  }
 },
 "nbformat": 4,
 "nbformat_minor": 0
}
