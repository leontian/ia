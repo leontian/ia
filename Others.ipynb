{
 "cells": [
  {
   "cell_type": "markdown",
   "metadata": {},
   "source": [
    "### Topological Sort and Shortest Path\n",
    "\n",
    "#### Kahn's algorithm\n",
    "\n",
    "One of these algorithms, first described by Kahn, works by choosing vertices in the same order as the eventual topological sort. First, find a list of \"start nodes\" which have no incoming edges and insert them into a set S; at least one such node must exist in a non-empty acyclic graph. Then:\n",
    "\n",
    "     L ← Empty list that will contain the sorted elements\n",
    "     S ← Set of all nodes with no incoming edges\n",
    "     while S is non-empty do\n",
    "         remove a node n from S\n",
    "         add n to tail of L\n",
    "         for each node m with an edge e from n to m do\n",
    "             remove edge e from the graph\n",
    "             if m has no other incoming edges then\n",
    "                 insert m into S\n",
    "     if graph has edges then\n",
    "         return error (graph has at least one cycle)\n",
    "     else \n",
    "         return L (a topologically sorted order)\n",
    "\n",
    "If the graph is a Directed acyclic graph(DAG), a solution will be contained in the list L (the solution is not necessarily unique). Otherwise, the graph must have at least one cycle and therefore a topological sorting is impossible.\n",
    "\n",
    "Reflecting the non-uniqueness of the resulting sort, the structure S can be simply a set or a queue or a stack. Depending on the order that nodes n are removed from set S, a different solution is created. A variation of Kahn's algorithm that breaks ties lexicographically forms a key component of the Coffman–Graham algorithm for parallel scheduling and layered graph drawing.\n"
   ]
  },
  {
   "cell_type": "code",
   "execution_count": null,
   "metadata": {
    "collapsed": true
   },
   "outputs": [],
   "source": []
  }
 ],
 "metadata": {
  "kernelspec": {
   "display_name": "Python 3",
   "language": "python",
   "name": "python3"
  },
  "language_info": {
   "codemirror_mode": {
    "name": "ipython",
    "version": 3
   },
   "file_extension": ".py",
   "mimetype": "text/x-python",
   "name": "python",
   "nbconvert_exporter": "python",
   "pygments_lexer": "ipython3",
   "version": "3.5.1"
  }
 },
 "nbformat": 4,
 "nbformat_minor": 0
}
