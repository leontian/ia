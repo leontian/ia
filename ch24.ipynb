{
 "cells": [
  {
   "cell_type": "markdown",
   "metadata": {},
   "source": [
    "# Chapter 24\n",
    "## Notes\n",
    "\n",
    "### Shortest-paths problem\n",
    "In particular, **single-source shortest-paths problem**:\n",
    "Given a graph $G=(V, E)$, we want to find a shortest path from a given source vertex $s\\in V$ to each vertex $v\\in V$. An algorithm that solves this can also solve the variants\n",
    "\n",
    "- Single-destination shortest-path problem: reverse the direction of each edge\n",
    "- Single-pair shortest-path problem\n",
    "- All pairs shortest-paths problem\n",
    "\n",
    "**Optimal substructure** is one of the key indicators that dynamic programming and the greedy method might apply.\n",
    "\n",
    "** Relaxation**\n",
    "\n",
    "```\n",
    "Initialize-Single-Source(G, s)\n",
    "    for each vertex v\\in G.V\n",
    "        v.d = \\infty\n",
    "        v.pi = Nil\n",
    "    s.d = 0\n",
    "```\n",
    "\n",
    "```\n",
    "Relax(u, v, w)\n",
    "    if v.d > u.d + w(u, v)\n",
    "        v.d = u.d + w(u, v)\n",
    "        v.\\pi = u\n",
    "```\n",
    "\n",
    "** Properties of shortest paths and relaxation**\n",
    "\n",
    "- Tiangle inequality\n",
    "- Upper-bound property\n",
    "- No-path property\n",
    "- Convergence property\n",
    "- Path-relaxation property\n",
    "- Predecessor-subgraph property"
   ]
  },
  {
   "cell_type": "markdown",
   "metadata": {},
   "source": [
    "### The Bellman-Ford algorithm\n",
    "\n",
    "Graphs $G$, source $s$, weight function $w$, edge weights may be negative.\n",
    "\n",
    "```\n",
    "Bellman-Ford(G, w, s)\n",
    "    Initialize-Single-Source(G, s)\n",
    "    for i = 1 to |G.V| - 1\n",
    "        for each edge (u, v)\\in G.E\n",
    "            Relax(u, v, w)\n",
    "    for each edge (u, v)\\in G.E\n",
    "        if v.d > u.d + w(u, v)\n",
    "            return False\n",
    "    return True\n",
    "```"
   ]
  },
  {
   "cell_type": "markdown",
   "metadata": {},
   "source": [
    "## Exercises"
   ]
  },
  {
   "cell_type": "markdown",
   "metadata": {},
   "source": [
    "## Problems"
   ]
  },
  {
   "cell_type": "code",
   "execution_count": null,
   "metadata": {
    "collapsed": true
   },
   "outputs": [],
   "source": []
  }
 ],
 "metadata": {
  "kernelspec": {
   "display_name": "Python 2",
   "language": "python",
   "name": "python2"
  },
  "language_info": {
   "codemirror_mode": {
    "name": "ipython",
    "version": 2
   },
   "file_extension": ".py",
   "mimetype": "text/x-python",
   "name": "python",
   "nbconvert_exporter": "python",
   "pygments_lexer": "ipython2",
   "version": "2.7.10"
  }
 },
 "nbformat": 4,
 "nbformat_minor": 0
}
