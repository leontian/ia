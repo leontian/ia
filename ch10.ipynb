{
 "cells": [
  {
   "cell_type": "markdown",
   "metadata": {},
   "source": [
    "# Chapter 10\n",
    "\n",
    "## Notes\n",
    "\n",
    "### Dynamic sets\n",
    "\n",
    "Operations:  \n",
    "- queries:\n",
    "  - Search(S, k)\n",
    "  - Minimum(S)\n",
    "  - Maximum(S)\n",
    "  - Successor(S, x)\n",
    "  - Predecessor(S, x)\n",
    "- modifying operations:\n",
    "  - Insert(S, x)\n",
    "  - Delete(S, x)\n",
    "  \n",
    "### Stacks and queues\n",
    "- Stack LIFO\n",
    "- Queue FIFO\n"
   ]
  },
  {
   "cell_type": "code",
   "execution_count": null,
   "metadata": {
    "collapsed": true
   },
   "outputs": [],
   "source": [
    "# in Python, we can use lists as stacks\n",
    "def stack_empty(S):\n",
    "    if len(S) == 0:\n",
    "        return True\n",
    "    else:\n",
    "        return False\n",
    "def push(S, x):\n",
    "    S.append(x)\n",
    "\n",
    "def pop(S):\n",
    "    if stack_empty(S):\n",
    "        print \"underflow\"\n",
    "    else:\n",
    "        return S.pop()\n"
   ]
  },
  {
   "cell_type": "markdown",
   "metadata": {},
   "source": [
    "## Exercises"
   ]
  },
  {
   "cell_type": "markdown",
   "metadata": {},
   "source": [
    "## Problems"
   ]
  }
 ],
 "metadata": {
  "kernelspec": {
   "display_name": "Python 2",
   "language": "python",
   "name": "python2"
  },
  "language_info": {
   "codemirror_mode": {
    "name": "ipython",
    "version": 2
   },
   "file_extension": ".py",
   "mimetype": "text/x-python",
   "name": "python",
   "nbconvert_exporter": "python",
   "pygments_lexer": "ipython2",
   "version": "2.7.10"
  }
 },
 "nbformat": 4,
 "nbformat_minor": 0
}
