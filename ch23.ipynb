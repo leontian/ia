{
 "cells": [
  {
   "cell_type": "markdown",
   "metadata": {},
   "source": [
    "# Chapter 23\n",
    "## Notes\n"
   ]
  },
  {
   "cell_type": "markdown",
   "metadata": {},
   "source": [
    "### The algorithms of Kurskal and Prim\n",
    "\n",
    "- Kruskal's Algorithm: Keep adding the shortest possible edges as long as the new graph(tree) is not acyclic.\n",
    "\n",
    "- Prim's Algorithm: Extend the tree by choosing the shortest edge that makes sure we add a new vertex in each step. For a vertex $v$ that is not yet part of the tree, $v.key$ is the distance from v to the tree, $(v.\\pi, v)$ is the edge with this length."
   ]
  },
  {
   "cell_type": "markdown",
   "metadata": {},
   "source": [
    "## Exercises\n",
    "\n",
    "### 23.1-1\n",
    "\n",
    "Use Theorem 23.1.\n",
    "\n",
    "Let $A = \\emptyset$, then of course $A$ is a subset of $E$ that is included in some minimum spanning tree. Let $S$ be any cut of $G$ that contains $u$ but not $v$, $(S, V-S)$ is a cut that respects $A$. Therefore $(u, v)$ is safe since it's a light edge crossing $(S, V-S)$."
   ]
  },
  {
   "cell_type": "code",
   "execution_count": null,
   "metadata": {
    "collapsed": true
   },
   "outputs": [],
   "source": []
  }
 ],
 "metadata": {
  "kernelspec": {
   "display_name": "Python 2",
   "language": "python",
   "name": "python2"
  },
  "language_info": {
   "codemirror_mode": {
    "name": "ipython",
    "version": 2
   },
   "file_extension": ".py",
   "mimetype": "text/x-python",
   "name": "python",
   "nbconvert_exporter": "python",
   "pygments_lexer": "ipython2",
   "version": "2.7.10"
  }
 },
 "nbformat": 4,
 "nbformat_minor": 0
}
