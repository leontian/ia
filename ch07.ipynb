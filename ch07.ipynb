{
 "cells": [
  {
   "cell_type": "markdown",
   "metadata": {},
   "source": [
    "# Chapter 7\n",
    "## Notes\n",
    "\n",
    "> The quicksort algorithm has a worst-case running time of $\\Theta(n^2)$ on an input array of $n$ numbers. However, quicksort is often the best practical choice for sorting because it is remarkably efficient on the average: its expected running time is $\\Theta(n \\lg n)$, and the constant factors hidden in the ‚$\\Theta(n \\lg n)$ notation are quite small. It also has the advantage of sorting in place, and it works well even in virtual-memory environments.\n"
   ]
  },
  {
   "cell_type": "code",
   "execution_count": 10,
   "metadata": {
    "collapsed": false
   },
   "outputs": [
    {
     "data": {
      "text/plain": [
       "[1, 2, 3, 4, 5, 6, 7, 8]"
      ]
     },
     "execution_count": 10,
     "metadata": {},
     "output_type": "execute_result"
    }
   ],
   "source": [
    "def partition(A, p, r):\n",
    "    i = p - 1\n",
    "    for j in range(p, r):\n",
    "        if A[j] <= A[r]:\n",
    "            i += 1\n",
    "            temp = A[i]\n",
    "            A[i] = A[j]\n",
    "            A[j] = temp\n",
    "            # print i, j, A\n",
    "    temp = A[i+1]\n",
    "    A[i+1] = A[r]\n",
    "    A[r] = temp\n",
    "    # print i+1, A\n",
    "    return i + 1\n",
    "            \n",
    "def quicksort(A, p, r):\n",
    "    if p < r:\n",
    "        q = partition(A, p, r)\n",
    "        quicksort(A, p, q-1)\n",
    "        quicksort(A, q+1, r )\n",
    "    \n",
    "A = [2, 8, 7, 1, 3, 5, 6, 4]\n",
    "quicksort(A, 0, len(A)-1)\n",
    "A"
   ]
  },
  {
   "cell_type": "markdown",
   "metadata": {
    "collapsed": true
   },
   "source": [
    "### Find medain / find k-th element in linear time"
   ]
  },
  {
   "cell_type": "markdown",
   "metadata": {},
   "source": [
    "## Exercises\n",
    "### 7.2-3\n",
    "\n",
    "We always choose the smallest element as pivot thus the first partition is always empty, which is the worst case as analyzed in 7.2.\n"
   ]
  },
  {
   "cell_type": "markdown",
   "metadata": {},
   "source": [
    "### 7.2-6"
   ]
  },
  {
   "cell_type": "markdown",
   "metadata": {},
   "source": [
    "## Problems"
   ]
  },
  {
   "cell_type": "code",
   "execution_count": null,
   "metadata": {
    "collapsed": true
   },
   "outputs": [],
   "source": []
  }
 ],
 "metadata": {
  "kernelspec": {
   "display_name": "Python 2",
   "language": "python",
   "name": "python2"
  },
  "language_info": {
   "codemirror_mode": {
    "name": "ipython",
    "version": 2
   },
   "file_extension": ".py",
   "mimetype": "text/x-python",
   "name": "python",
   "nbconvert_exporter": "python",
   "pygments_lexer": "ipython2",
   "version": "2.7.11"
  }
 },
 "nbformat": 4,
 "nbformat_minor": 0
}
