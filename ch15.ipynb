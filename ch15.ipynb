{
 "cells": [
  {
   "cell_type": "markdown",
   "metadata": {},
   "source": [
    "Dynamic programming is usually applied to solve optimization problems.\n",
    "\n",
    "Four steps:\n",
    "\n",
    "1. characterize the structure of an optimal solution.\n",
    "2. recusively define the value of an optimal solution.\n",
    "3. compute the value of an optimal solution, typically in a bottom-up fashion.\n",
    "4. construct an optimal solution from computed information.\n",
    "\n",
    "Using naive recursive solution, we'll find that the running time is exponetial to *n*.\n",
    "Because subproblems are solved repeatedly. To avoid that, we save subproblems' solutions. In this way, DP uses memory to save computation time.\n",
    "\n",
    "There are two approaches to implement a dynamic-programming approach.\n",
    "\n",
    "- top-down with memoization: more \"natural\" way - usual resursion with checking for solutions \n",
    "\n",
    "- bottom-up: only if we can define the \"size\" of a problem.\n",
    "\n",
    "Greedy algorithms typically have this top-down design: make a choice and then solve a subproblem, rather than the bottom-up technique of solving subproblems before making a choice.\n",
    "\n",
    "\n",
    "\n"
   ]
  }
 ],
 "metadata": {
  "kernelspec": {
   "display_name": "Python 2",
   "language": "python",
   "name": "python2"
  },
  "language_info": {
   "codemirror_mode": {
    "name": "ipython",
    "version": 2
   },
   "file_extension": ".py",
   "mimetype": "text/x-python",
   "name": "python",
   "nbconvert_exporter": "python",
   "pygments_lexer": "ipython2",
   "version": "2.7.10"
  }
 },
 "nbformat": 4,
 "nbformat_minor": 0
}
