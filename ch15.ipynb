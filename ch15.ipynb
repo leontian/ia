{
 "cells": [
  {
   "cell_type": "markdown",
   "metadata": {},
   "source": [
    "# Chapter 15\n",
    "## Notes\n",
    "Dynamic programming is usually applied to solve optimization problems.\n",
    "\n",
    "Four steps:\n",
    "\n",
    "1. characterize the structure of an optimal solution. (English illustration）\n",
    "2. recusively define the value of an optimal solution. (Dynamic recurrence, math formula $C=Objective$, max value achievable with any algos)\n",
    "3. compute the value of an optimal solution, typically in a bottom-up fashion. (implement C computation bottom-up, pseudocode)\n",
    "4. construct an optimal solution from computed information. (identify the solution, pseudocode)\n",
    "5. (Analysis of run time.)\n",
    "\n",
    "Using naive recursive solution, we'll find that the running time is exponetial to *n*.\n",
    "Because subproblems are solved repeatedly. To avoid that, we save subproblems' solutions. In this way, DP uses memory to save computation time.\n",
    "\n",
    "There are two approaches to implement a dynamic-programming approach.\n",
    "\n",
    "- top-down with memoization: more \"natural\" way - usual resursion with checking for solutions \n",
    "\n",
    "- bottom-up: only if we can define the \"size\" of a problem.\n",
    "\n",
    "Greedy algorithms typically have this top-down design: make a choice and then solve a subproblem, rather than the bottom-up technique of solving subproblems before making a choice.\n",
    "\n",
    "\n",
    "\n"
   ]
  },
  {
   "cell_type": "markdown",
   "metadata": {},
   "source": [
    "### 0-1 Knapsack\n",
    "\n",
    "Why can we reduce $2^k$ subproblems to $2k$ subproblems?\n",
    "\n",
    "We have a fixed set of items to choose from. Once we choose to keep or discard $k$-th item, we don't have to worry about it anymore in the subproblems.\n",
    "\n",
    "    DISCRETE-KNAPSACK(V[], W[], Z)\n",
    "    for j = 0:Z\n",
    "        C[0, j] = 0\n",
    "    for i = 1:n\n",
    "        C[i, 0] = 0\n",
    "        for j = 1:z\n",
    "            if w_i <= j\n",
    "                if v_i + C[i-1, j-w_i] > C[i-1, j]\n",
    "                    then C[i, j] = v_i + C[i-1, j-w_i]\n",
    "                         S[i, j] = 1\n",
    "                    else C[i, j] = C[i-1, j]\n",
    "                         S[i, j] = 0\n",
    "                else C[i, j] = C[i-1, j]\n",
    "                \n",
    "    KNAPSACK-SOL\n",
    "    while n > 0 & j > 0\n",
    "        if C[n, j] > C[n-1, j]\n",
    "            print n # choose this one\n",
    "            j = j - w_n\n",
    "        n = n - 1"
   ]
  },
  {
   "cell_type": "markdown",
   "metadata": {},
   "source": [
    "Running time:\n",
    "\n",
    "$\\Theta(nZ)$\n",
    "\n",
    "- linear in $n$\n",
    "- linear in $Z$\n",
    "\n",
    "not polynomial time since the size of the problem is in terms of $n, \\log Z$, which means the running time is actually exponential. \n",
    "\n",
    "0-1 knapsack is known to be NP-Complete"
   ]
  },
  {
   "cell_type": "code",
   "execution_count": 15,
   "metadata": {
    "collapsed": false
   },
   "outputs": [],
   "source": [
    "def discrete_knapsack(v, w, Z):\n",
    "    C = [[None for i in v] for j in range(Z+1)]\n",
    "    for j in range(z+1):\n",
    "        C[[0, j]] = 0\n",
    "        \n",
    "        "
   ]
  },
  {
   "cell_type": "markdown",
   "metadata": {},
   "source": [
    "### Rod cutting problem\n"
   ]
  },
  {
   "cell_type": "markdown",
   "metadata": {},
   "source": [
    "### Matrix-chain multiplication\n",
    "\n",
    "- Associative\n",
    "\n",
    "Order of computing solutions for subproblems\n",
    "\n",
    "Running time: $O(n^3)$. Space $O(n^2)$."
   ]
  },
  {
   "cell_type": "markdown",
   "metadata": {},
   "source": [
    "### Elements of dynamic programming\n"
   ]
  },
  {
   "cell_type": "markdown",
   "metadata": {
    "slideshow": {
     "slide_type": "-"
    }
   },
   "source": [
    "### Longest common subsequence\n",
    "\n",
    "$X = \\langle x_1, x_2, \\ldots, x_m\\rangle$\n",
    "$Y = \\langle y_1, y_2, \\ldots, y_n\\rangle$\n",
    "\n",
    "Task: Find $Z = \\langle z_1, z_2, \\ldots, z_k\\rangle$ that is longest subsequence of both $X$ and $Y$, want $Z$ with max $k$.\n",
    "\n",
    "1. $Z = LCS(X, Y)$ then\n",
    "    - if $x_m = y_n\\Rightarrow z_k=x_m=y_n$ and $z_{k-1}={LCS}(X_{m-1}, Y_{n-1})$\n",
    "    - if $x_m \\not= y_n$, $z_k\\not= x_m\\Rightarrow Z=LCS(X_{m-1}, Y_n)$\n",
    "    - if $x_m \\not= y_n$, $z_k\\not= y_n\\Rightarrow Z=LCS(X_m, Y_{n-1})$\n",
    "2. $C[i, j]$ =\n",
    "    - 0 if $i = 0\\text{ or }j = 0$\n",
    "    - $1 + C[i-1, j-1]$ if $i > 0, j > 0, x_i = y_j$\n",
    "    - $\\max\\{C[i-1, j], C[i, j-1]\\}$\n"
   ]
  },
  {
   "cell_type": "markdown",
   "metadata": {},
   "source": [
    "    LCS-main-comp\n",
    "    for i = 1:m\n",
    "        for j = 1:n\n",
    "            if (x_i == y_j)\n",
    "                C[i, j] = 1 + C[i-1, j-1]\n",
    "                S[i, j] = 'diagonal'\n",
    "            else if C[i-1, j] > C[i, j-1]\n",
    "                    C[i, j] = C[i-1, j]\n",
    "                    S[i, j] = 'down'\n",
    "                 else C[i, j] = C[i, j-1]\n",
    "                    S[i, j] = 'left'\n",
    "                     "
   ]
  },
  {
   "cell_type": "markdown",
   "metadata": {},
   "source": [
    "### Optimal binary search trees"
   ]
  },
  {
   "cell_type": "code",
   "execution_count": null,
   "metadata": {
    "collapsed": true
   },
   "outputs": [],
   "source": []
  }
 ],
 "metadata": {
  "kernelspec": {
   "display_name": "Python 3",
   "language": "python",
   "name": "python3"
  },
  "language_info": {
   "codemirror_mode": {
    "name": "ipython",
    "version": 3
   },
   "file_extension": ".py",
   "mimetype": "text/x-python",
   "name": "python",
   "nbconvert_exporter": "python",
   "pygments_lexer": "ipython3",
   "version": "3.5.1"
  }
 },
 "nbformat": 4,
 "nbformat_minor": 0
}
