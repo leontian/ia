{
 "cells": [
  {
   "cell_type": "markdown",
   "metadata": {},
   "source": [
    "# Chapter 6\n",
    "## Notes"
   ]
  },
  {
   "cell_type": "markdown",
   "metadata": {},
   "source": [
    "### Running time comparison\n",
    "\n",
    " Algorithm     | Worst-case running | Average-case/expected\n",
    "-------------- | ------------------ | --------------------------\n",
    "Intertion sort | $\\Theta(n^2)$      | $\\Theta(n^2)$ \n",
    "Merge sort     | $\\Theta(n\\lg n)$   | $\\Theta(n\\lg n)$ \n",
    "Heapsort       | $O(n\\lg n)$        | - \n",
    "Quicksort      | $\\Theta(n^2)$      | $\\Theta(n\\lg n)$ (expected)\n",
    "Counting sort  | $\\Theta(k + n)$    | $\\Theta(k + n)$ \n",
    "Radix sort     | $\\Theta(d(k + n))$ | $\\Theta(d(k + n))$ \n",
    "Bucket sort    | $\\Theta(n^2)$      | $\\Theta(n)$ (average case)\n",
    "\n"
   ]
  },
  {
   "cell_type": "markdown",
   "metadata": {},
   "source": [
    "### Heap\n",
    "\n",
    "Like merge sort, but unlike insertion sord, heapsort's running time is $O(n\\lg n)$. Like insertion sort but unlike merge sort, heapsort sorts in place.\n",
    "\n",
    "- max-heap, heap property $A[parent(i)]\\geq A[i]$\n",
    "- min-heap, heap property $A[parent(i)]\\leq A[i]$"
   ]
  },
  {
   "cell_type": "markdown",
   "metadata": {},
   "source": [
    "### Max-Heapify\n",
    "\n",
    "Input: Array A and index i.\n",
    "\n",
    "When called, it assumes that the binary trees root at Left(i) and Right(i) are max heaps, but that A[i] might be smaller than its children. By letting A[i] \"float down\" in the max heap it maintains the max-heap property.\n",
    "\n",
    "Running time satisfies $T(n)\\leq T(2n/3) + \\Theta(1)$, solution of which is $T(n) = O(\\lg n)$."
   ]
  },
  {
   "cell_type": "markdown",
   "metadata": {},
   "source": [
    "### Build-Max-Heap\n",
    "Use Max-Heapify in a bottom-up manner to convert an array into a max-heap.\n",
    "\n",
    "Running time is $O(n\\lg n)$ but a tighter bound is $O(n)$. We can build a max-heap from an unordered array in linear time."
   ]
  },
  {
   "cell_type": "markdown",
   "metadata": {},
   "source": [
    "### Heapsort algorithm\n",
    "\n",
    "Put the root (max) into its final position by exchanging it with last leaf. Then maintain max-heap property by calling Max-Heapify.\n",
    "\n",
    "Heapsort takes $O(n\\lg n)$ since the call to Build-Max-Heap taks time $O(n)$ and each of the $n-1$ calls to Max-Heapify takes time $O(\\lg n)$."
   ]
  },
  {
   "cell_type": "markdown",
   "metadata": {},
   "source": [
    "### Priority queues\n",
    "\n",
    "Although it looks that heapsort is superior, but a good implementation of quicksort (ch.7) usually beats it in practice.\n",
    "\n",
    "Nevertheless, a heap often used as an efficient priority queue. A max-priority queue supports the following operations\n",
    "\n",
    "- Insert(S, x) insert x into S\n",
    "- Maximum(S) returns the element with the largest key\n",
    "- Extract-Max(S) removes and returns the element with the largest key\n",
    "- Increase-Key(S, x, k) increase x's key to k, which is assumed >= current value.\n",
    "\n",
    "A heap can support any of the operation above on a set of size $n$ in $O(\\lg n)$ time."
   ]
  },
  {
   "cell_type": "code",
   "execution_count": 73,
   "metadata": {
    "collapsed": false
   },
   "outputs": [
    {
     "name": "stdout",
     "output_type": "stream",
     "text": [
      "[1, 3, 5, 22, 2, 4, 6, 15, 7]\n",
      "[22, 15, 6, 7, 2, 4, 5, 3, 1]\n",
      "[1, 2, 3, 4, 5, 6, 7, 15, 22]\n",
      "[22, 15, 6, 7, 2, 4, 5, 3, 1]\n",
      "22\n",
      "22 [15, 7, 6, 3, 2, 4, 5, 1]\n",
      "[22, 15, 6, 7, 2, 4, 5, 3, 1]\n",
      "[23, 22, 6, 7, 15, 4, 5, 3, 1]\n",
      "[25, 23, 6, 7, 22, 4, 5, 3, 1, 15]\n"
     ]
    }
   ],
   "source": [
    "def parent(i):\n",
    "    return (i - 1) / 2\n",
    "\n",
    "def left(i):\n",
    "    return i * 2 + 1\n",
    "\n",
    "def right(i):\n",
    "    return i * 2 + 2\n",
    "\n",
    "def max_heapify(A, i, length):\n",
    "    l = left(i)\n",
    "    r = right(i)\n",
    "    if l <= length - 1 and A[l] > A[i]:\n",
    "        largest = l\n",
    "    else: largest = i\n",
    "    if r <= length - 1 and A[r] > A[largest]:\n",
    "        largest = r\n",
    "    if largest != i:\n",
    "        temp = A[i]\n",
    "        A[i] =  A[largest]\n",
    "        A[largest] = temp\n",
    "        max_heapify(A, largest, length)\n",
    "        \n",
    "def build_max_heap(A):\n",
    "    length = len(A)\n",
    "    for i in range(len(A) / 2 - 1, -1, -1):\n",
    "        # print i\n",
    "        max_heapify(A, i, length)\n",
    "        # print A\n",
    "\n",
    "def heapsort(A):\n",
    "    length = len(A)\n",
    "    build_max_heap(A)\n",
    "\n",
    "    for i in range(length - 1, 0, -1):\n",
    "        temp = A[i]\n",
    "        A[i] = A[0]\n",
    "        A[0] = temp\n",
    "        length -= 1\n",
    "        max_heapify(A, 0, length)\n",
    "        \n",
    "#############################\n",
    "# Priority Queue operations #\n",
    "#############################\n",
    "\n",
    "def heap_maximum(A):\n",
    "    return A[0]\n",
    "\n",
    "def heap_extract_max(A):\n",
    "    if len(A) < 1:\n",
    "        print \"heap underflow\" # TODO\n",
    "    max = A[0]\n",
    "    A[0] = A[-1]\n",
    "    A.pop()\n",
    "    #print A\n",
    "    max_heapify(A, 0, len(A))\n",
    "    return max\n",
    "\n",
    "def heap_increase_key(A, i, key):\n",
    "    if key < A[i]:\n",
    "        print \"new key is smaller than current key\"\n",
    "    A[i] = key\n",
    "    while i > 0 and A[parent(i)] < A[i]:\n",
    "        temp = A[i]\n",
    "        A[i] = A[parent(i)]\n",
    "        A[parent(i)] = temp\n",
    "        i = parent(i)\n",
    "        \n",
    "def max_heap_insert(A, key):\n",
    "    A.append(-9999)\n",
    "    heap_increase_key(A, len(A)-1, key)\n",
    "\n",
    "\n",
    "A = [1, 3, 5, 7, 2, 4, 6, 15, 22]\n",
    "max_heapify(A, 3, len(A))\n",
    "print A\n",
    "A = [1, 3, 5, 7, 2, 4, 6, 15, 22]\n",
    "build_max_heap(A)\n",
    "print A\n",
    "A = [1, 3, 5, 7, 2, 4, 6, 15, 22]\n",
    "heapsort(A)\n",
    "print A\n",
    "\n",
    "B = [1, 3, 5, 7, 2, 4, 6, 15, 22]\n",
    "build_max_heap(B)\n",
    "print B\n",
    "print heap_maximum(B)\n",
    "print heap_extract_max(B), B\n",
    "\n",
    "B = [1, 3, 5, 7, 2, 4, 6, 15, 22]\n",
    "build_max_heap(B)\n",
    "print B\n",
    "heap_increase_key(B, 4, 23)\n",
    "print B\n",
    "max_heap_insert(B, 25)\n",
    "print B"
   ]
  },
  {
   "cell_type": "markdown",
   "metadata": {},
   "source": [
    "## Exercises\n",
    "### 6.1-1\n",
    "\n",
    "Height is the number of edges on the path.\n",
    "\n",
    "minimum: $2^h$. maximum $2^{h+1}-1$\n"
   ]
  },
  {
   "cell_type": "markdown",
   "metadata": {},
   "source": [
    "### 6.1-2\n",
    "\n",
    "According to 6.1-1, if $2^h\\leq n\\leq 2^{h+1}-1$, we have $h\\leq \\lg n<h+1$, i.e. $h = [\\lg n]$"
   ]
  },
  {
   "cell_type": "markdown",
   "metadata": {},
   "source": [
    "### 6.1-3\n",
    "\n",
    "For any node $j$ in the subtree, there is a simple downward path $[i, k_1, ..., k_m, j]$ from the root $i$ of the subtree to $j$.\n",
    "\n",
    "By the max heap property, $$A[i]\\geq A[k_1] \\ldots \\geq A[k_m]\\geq A[j],$$ which means we have $A[j] \\leq A[i]$. Thus root $A[i]$ contains the largest value in the subtree."
   ]
  },
  {
   "cell_type": "markdown",
   "metadata": {},
   "source": [
    "### 6.1-4\n",
    "\n",
    "In a leaf but not necessarily max height"
   ]
  },
  {
   "cell_type": "markdown",
   "metadata": {},
   "source": [
    "### 6.1-5\n",
    "\n",
    "Yes"
   ]
  },
  {
   "cell_type": "markdown",
   "metadata": {},
   "source": [
    "### 6.1-6\n",
    "\n",
    "No, 7 is a child of 6"
   ]
  },
  {
   "cell_type": "markdown",
   "metadata": {},
   "source": [
    "### 6.1-7\n",
    "\n",
    "leaves are those nodes without children, so they are nodes with indices $\\{i\\mid 2i > n\\}$"
   ]
  },
  {
   "cell_type": "markdown",
   "metadata": {},
   "source": [
    "### 6.2-2"
   ]
  },
  {
   "cell_type": "code",
   "execution_count": 31,
   "metadata": {
    "collapsed": false
   },
   "outputs": [
    {
     "data": {
      "text/plain": [
       "[23, 17, 14, 5, 13, 10, 1, 6, 7, 12]"
      ]
     },
     "execution_count": 31,
     "metadata": {},
     "output_type": "execute_result"
    }
   ],
   "source": [
    "def min_heapify(A, i):\n",
    "    l = left(i)\n",
    "    r = right(i)\n",
    "    if l <= len(A) - 1 and A[l] < A[i]:\n",
    "        smallest = l\n",
    "    else: smallest = i\n",
    "    if r <= len(A) - 1 and A[r] < A[smallest]:\n",
    "        smallest = r\n",
    "    if smallest != i:\n",
    "        temp = A[i]\n",
    "        A[i] =  A[smallest]\n",
    "        A[smallest] = temp\n",
    "        min_heapify(A, smallest)\n",
    "\n",
    "A = [23, 17, 14, 6, 13, 10, 1, 5, 7, 12]\n",
    "min_heapify(A, 3)\n",
    "A"
   ]
  },
  {
   "cell_type": "markdown",
   "metadata": {},
   "source": [
    "### 6.2-3\n",
    "\n",
    "Nothing"
   ]
  },
  {
   "cell_type": "markdown",
   "metadata": {},
   "source": [
    "### 6.2-4\n",
    "\n",
    "Nothing."
   ]
  },
  {
   "cell_type": "markdown",
   "metadata": {},
   "source": [
    "### 6.2-5"
   ]
  },
  {
   "cell_type": "code",
   "execution_count": 79,
   "metadata": {
    "collapsed": false
   },
   "outputs": [
    {
     "data": {
      "text/plain": [
       "[23, 17, 14, 7, 13, 10, 1, 5, 6, 12]"
      ]
     },
     "execution_count": 79,
     "metadata": {},
     "output_type": "execute_result"
    }
   ],
   "source": [
    "def max_heapify_iterative(A, i):\n",
    "    while left(i) < len(A) or right(i) < len(A):\n",
    "        l = left(i)\n",
    "        r = right(i)\n",
    "        if l < len(A) and A[l] > A[i]:\n",
    "            largest = l\n",
    "        else: largest = i\n",
    "        if r < len(A) and A[r] > A[largest]:\n",
    "            largest = r\n",
    "        if largest != i:\n",
    "            temp = A[i]\n",
    "            A[i] =  A[largest]\n",
    "            A[largest] = temp\n",
    "            i = largest\n",
    "        else:\n",
    "            break\n",
    "\n",
    "A = [23, 17, 14, 6, 13, 10, 1, 5, 7, 12]\n",
    "max_heapify_iterative(A, 3)\n",
    "A\n",
    "        "
   ]
  },
  {
   "cell_type": "markdown",
   "metadata": {},
   "source": [
    "## Problems"
   ]
  },
  {
   "cell_type": "code",
   "execution_count": null,
   "metadata": {
    "collapsed": true
   },
   "outputs": [],
   "source": []
  },
  {
   "cell_type": "code",
   "execution_count": null,
   "metadata": {
    "collapsed": true
   },
   "outputs": [],
   "source": []
  }
 ],
 "metadata": {
  "kernelspec": {
   "display_name": "Python 2",
   "language": "python",
   "name": "python2"
  },
  "language_info": {
   "codemirror_mode": {
    "name": "ipython",
    "version": 2
   },
   "file_extension": ".py",
   "mimetype": "text/x-python",
   "name": "python",
   "nbconvert_exporter": "python",
   "pygments_lexer": "ipython2",
   "version": "2.7.10"
  }
 },
 "nbformat": 4,
 "nbformat_minor": 0
}
