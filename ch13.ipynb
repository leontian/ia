{
 "cells": [
  {
   "cell_type": "markdown",
   "metadata": {},
   "source": [
    "# Chapter 13 Red-Black Trees\n",
    "## Notes\n",
    "\n",
    "https://www.cs.usfca.edu/~galles/visualization/RedBlack.html\n",
    "Red-Black tree visualization\n",
    "\n",
    "### Properties\n",
    "\n",
    "One more attribute added to binary search trees: color, which is either red or black.\n",
    "\n",
    "1. every node is either red or black\n",
    "2. the root is black\n",
    "3. every leaf(Nil) is black\n",
    "4. If a node is red, then both its children are black\n",
    "5. For each node, all simple paths from node to descendant leaves contain the same number of black nodes\n",
    "\n",
    "By property 5, **black-height**, the number of black nodes on any simple path from, but not including a node $x$ down to a leaf, is well defined.\n",
    " \n",
    "> A red-black tree with $n$ internal nodes has height at most $2\\lg (n+1)$.\n",
    "\n",
    "Proof. \n",
    "- Claim that the subtree rooted at any node $x$ contains at least $2^{bh(x)}-1$ internal nodes. \n",
    "- This can be proved by induction on the height of $x$ (not black-height) based on the observation that each child (less height) has black height either $bh(x)-1$ or $bh(x)$. \n",
    "- Also it's clear that $bh(root) \\geq h/2$\n",
    "- $n > 2^{bh(x)}-1 \\geq 2^{h/2} - 1 \\Rightarrow  h\\leq 2\\lg(n+1)$\n",
    "\n",
    "Search, Minimum, Maximum, Successor and Prodecessor can be done in $O(\\lg n)$ time."
   ]
  },
  {
   "cell_type": "markdown",
   "metadata": {},
   "source": [
    "### Rotations\n",
    "rotation is a local operation that preserves the binary search tree property\n",
    "\n",
    "<img src=\"img/13-2Rotations.png\">\n",
    "\n",
    "$\\alpha < x < y < \\gamma$ and $x <\\beta < y$ are preserved."
   ]
  },
  {
   "cell_type": "markdown",
   "metadata": {},
   "source": [
    "### Insertion\n"
   ]
  },
  {
   "cell_type": "markdown",
   "metadata": {},
   "source": [
    "### Deletion\n",
    "\n",
    "Deletion of a node takes time $O(\\lg n)$ but is a bit more compplicated than inserting a node.\n",
    "\n",
    "Customized version of Transplant subroutine.\n"
   ]
  },
  {
   "cell_type": "code",
   "execution_count": 38,
   "metadata": {
    "collapsed": false
   },
   "outputs": [
    {
     "data": {
      "text/plain": [
       "0"
      ]
     },
     "execution_count": 38,
     "metadata": {},
     "output_type": "execute_result"
    }
   ],
   "source": [
    "def left_rotate(T, x):\n",
    "    y = x.right\n",
    "    x.right = y.left\n",
    "    if y.left != T.nil:\n",
    "        y.left.p = x\n",
    "    y.p = x.p\n",
    "    if x.p == T.nil:\n",
    "        T.root = y\n",
    "    elif x == x.p.left:\n",
    "        x.p.left = y\n",
    "    else:\n",
    "        x.p.right = y\n",
    "    y.left = x\n",
    "    x.p = y\n",
    "    \n",
    "def right_rotate(T, y):\n",
    "    x = y.left\n",
    "    y.left = x.right\n",
    "    if x.right != T.nil:\n",
    "        x.right.p = y\n",
    "    x.p = y.p\n",
    "    if y.p == T.nil:\n",
    "        T.root = x\n",
    "    elif y == y.p.right:\n",
    "        y.p.right = x\n",
    "    else:\n",
    "        y.p.left = x\n",
    "    x.right = y\n",
    "    y.p = x\n",
    "\n",
    "red = 0\n",
    "black = 1\n",
    "class RBNode:\n",
    "    def __init__(self, left, right, p, key, color):\n",
    "        self.left = left\n",
    "        self.right = right\n",
    "        self.p = p\n",
    "        self.key = key\n",
    "        self.color = color\n",
    "\n",
    "class RBTree:\n",
    "    global red, black    \n",
    "    def __init__(self):\n",
    "        self.nil = RBNode(None, None, None, None, black)\n",
    "        self.root = self.nil\n",
    "    \n",
    "def rb_insert(T, z):\n",
    "    global red, black\n",
    "    y = T.nil\n",
    "    x = T.root\n",
    "    while x != T.nil:\n",
    "        y = x\n",
    "        if z.key < x.key:\n",
    "            x = x.left\n",
    "        else:\n",
    "            x = x.right\n",
    "    z.p = y\n",
    "    if y == T.nil:\n",
    "        T.root = z\n",
    "    elif z.key < y.key:\n",
    "        y.left = z\n",
    "    else: \n",
    "        y.right = z\n",
    "    z.left = T.nil\n",
    "    z.right = T.nil\n",
    "    z.color = red # red:0, black:1\n",
    "    rb_insert_fixup(T, z)\n",
    "def rb_insert_fixup(T, z):\n",
    "    global red, black\n",
    "    while z.p.color == red:\n",
    "        if z.p == z.p.p.left:\n",
    "            y = z.p.p.right\n",
    "            if y.color == red:\n",
    "                z.p.color = black\n",
    "                y.color = black\n",
    "                z.p.p.color = red\n",
    "                z = z.p.p\n",
    "            else:\n",
    "                if z == z.p.right:\n",
    "                    z = z.p\n",
    "                    left_rotate(T, z) # to make sure z is left child\n",
    "                z.p.color = black\n",
    "                z.p.p.color = red\n",
    "                right_rotate(T, z.p.p)\n",
    "        else: #z.p can't be root since its color is red\n",
    "            y = z.p.p.left\n",
    "            if y.color == red:\n",
    "                z.p.color = black\n",
    "                y.color = black\n",
    "                z.p.p.color = red\n",
    "                z = z.p.p\n",
    "            else:\n",
    "                if z ==  z.p.left:\n",
    "                    z = z.p\n",
    "                    right_rotate(T, z)\n",
    "                z.p.color = black\n",
    "                z.p.p.color = red\n",
    "                left_rotate(T, z.p.p)\n",
    "    T.root.color = black # we may have changed root's color to red\n",
    "\n",
    "def rb_transplant(T, u, v):\n",
    "    if u.p == T.nil:\n",
    "        T.root = v\n",
    "    elif u == u.p.left:\n",
    "        u.p.left = v\n",
    "    else:\n",
    "        u.p.right = v\n",
    "    v.p = u.p\n",
    "    \n",
    "def rb_delete(T, z):\n",
    "    global red, black\n",
    "    y = z\n",
    "    y_original_color = y.color\n",
    "    if z.left == T.nil:\n",
    "        x = z.right\n",
    "        rb_transplant(T, z, z.right)\n",
    "    elif z.right == T.nil:\n",
    "        x = z.left\n",
    "        rb_transplant(T, z, z.left)\n",
    "    else: \n",
    "        y = tree_minimum(z.right)\n",
    "        y_original_color = y.color\n",
    "        x = y.right\n",
    "        if y.p == z:\n",
    "            x.p = y\n",
    "        else:\n",
    "            rb_transplant(T, y, y.right)\n",
    "            y.right = z.right\n",
    "            y.right.p = y\n",
    "        rb_transplant(T, z, y)\n",
    "        y.left = z.left\n",
    "        y.left.p = y\n",
    "        y.color = z.color\n",
    "    if y_original_color == black:\n",
    "        rb_delete_fixup(T, x)\n",
    "    \n",
    "def rb_delete_fixup(T, x):\n",
    "    global red, black\n",
    "    while x != T.root and x.color == black:\n",
    "        if x == x.p.left:\n",
    "            w = x.p.right\n",
    "            if w.color == red:\n",
    "                w.color = black    # case 1\n",
    "                x.p.color = red\n",
    "                left_rotate(T, x.p)\n",
    "                w = x.p.right\n",
    "            if w.left.color == black and w.right.color == black:\n",
    "                w.color = red      # case 2\n",
    "                x = x.p\n",
    "            else:\n",
    "                if w.right.color == black:\n",
    "                    w.left.color = black # case 3\n",
    "                    w.color = red\n",
    "                    right_rotate(T, w)\n",
    "                    w = x.p.right\n",
    "                w.color = x.p.color      # case 4\n",
    "                x.p.color = black\n",
    "                w.right.color = black\n",
    "                left_rotate(T, x, p)\n",
    "                x = T.root\n",
    "        else:\n",
    "            continue #TODO\n",
    "def inorder_rb_tree_walk(x):\n",
    "    if x != None and x.key != None:\n",
    "        inorder_rb_tree_walk(x.left)\n",
    "        print x.key, x.color\n",
    "        inorder_rb_tree_walk(x.right)\n",
    "        \n",
    "def write_tree_as_dot(T, f, show_nil=False):\n",
    "    \"Write the tree in the dot language format to f.\"\n",
    "    def node_id(node):\n",
    "        return 'N%s' % node.key\n",
    "    \n",
    "    def node_color(node):\n",
    "        if node.color == red:\n",
    "            return \"red\"\n",
    "        else:\n",
    "            return \"black\"\n",
    "    \n",
    "    def visit_node(node):\n",
    "        \"Visit a node.\"\n",
    "        print >> f, \"  %s [label=\\\"%s\\\", color=\\\"%s\\\"];\" % (node_id(node), node.key, node_color(node))\n",
    "        if node.left:\n",
    "            if node.left != T.nil or show_nil:\n",
    "                visit_node(node.left)\n",
    "                print >> f, \"  %s -> %s ;\" % (node_id(node), node_id(node.left))\n",
    "        if node.right:\n",
    "            if node.right != T.nil or show_nil:\n",
    "                visit_node(node.right)\n",
    "                print >> f, \"  %s -> %s ;\" % (node_id(node), node_id(node.right))\n",
    "             \n",
    "    print >> f, \"// Created by rbtree.write_dot()\"\n",
    "    print >> f, \"digraph red_black_tree {\"\n",
    "    visit_node(T.root)\n",
    "    print >> f, \"}\"\n",
    "\n",
    "\n",
    "import os\n",
    "\n",
    "T = RBTree()\n",
    "for i in range(1, 9):\n",
    "    rb_insert(T, RBNode(None, None, None, i, red))\n",
    "\n",
    "filename = 'tree66'\n",
    "f = open('img/%s.dot' % filename, 'w')\n",
    "write_tree_as_dot(T, f, False)\n",
    "os.system('dot img/%s.dot -Tsvg -o img/%s.svg' % (filename, filename))"
   ]
  },
  {
   "cell_type": "code",
   "execution_count": 39,
   "metadata": {
    "collapsed": false
   },
   "outputs": [
    {
     "data": {
      "image/svg+xml": [
       "<svg height=\"260pt\" viewBox=\"0.00 0.00 278.00 260.00\" width=\"278pt\" xmlns=\"http://www.w3.org/2000/svg\" xmlns:xlink=\"http://www.w3.org/1999/xlink\">\n",
       "<g class=\"graph\" id=\"graph0\" transform=\"scale(1 1) rotate(0) translate(4 256)\">\n",
       "<title>red_black_tree</title>\n",
       "<polygon fill=\"white\" points=\"-4,4 -4,-256 274,-256 274,4 -4,4\" stroke=\"none\"/>\n",
       "<!-- N4 -->\n",
       "<g class=\"node\" id=\"node1\"><title>N4</title>\n",
       "<ellipse cx=\"135\" cy=\"-234\" fill=\"none\" rx=\"27\" ry=\"18\" stroke=\"black\"/>\n",
       "<text font-family=\"Times,serif\" font-size=\"14.00\" text-anchor=\"middle\" x=\"135\" y=\"-229.8\">4</text>\n",
       "</g>\n",
       "<!-- N2 -->\n",
       "<g class=\"node\" id=\"node2\"><title>N2</title>\n",
       "<ellipse cx=\"99\" cy=\"-162\" fill=\"none\" rx=\"27\" ry=\"18\" stroke=\"red\"/>\n",
       "<text font-family=\"Times,serif\" font-size=\"14.00\" text-anchor=\"middle\" x=\"99\" y=\"-157.8\">2</text>\n",
       "</g>\n",
       "<!-- N4&#45;&gt;N2 -->\n",
       "<g class=\"edge\" id=\"edge3\"><title>N4-&gt;N2</title>\n",
       "<path d=\"M126.65,-216.765C122.288,-208.283 116.853,-197.714 111.959,-188.197\" fill=\"none\" stroke=\"black\"/>\n",
       "<polygon fill=\"black\" points=\"114.99,-186.439 107.304,-179.147 108.765,-189.641 114.99,-186.439\" stroke=\"black\"/>\n",
       "</g>\n",
       "<!-- N6 -->\n",
       "<g class=\"node\" id=\"node5\"><title>N6</title>\n",
       "<ellipse cx=\"171\" cy=\"-162\" fill=\"none\" rx=\"27\" ry=\"18\" stroke=\"red\"/>\n",
       "<text font-family=\"Times,serif\" font-size=\"14.00\" text-anchor=\"middle\" x=\"171\" y=\"-157.8\">6</text>\n",
       "</g>\n",
       "<!-- N4&#45;&gt;N6 -->\n",
       "<g class=\"edge\" id=\"edge7\"><title>N4-&gt;N6</title>\n",
       "<path d=\"M143.35,-216.765C147.712,-208.283 153.147,-197.714 158.041,-188.197\" fill=\"none\" stroke=\"black\"/>\n",
       "<polygon fill=\"black\" points=\"161.235,-189.641 162.696,-179.147 155.01,-186.439 161.235,-189.641\" stroke=\"black\"/>\n",
       "</g>\n",
       "<!-- N1 -->\n",
       "<g class=\"node\" id=\"node3\"><title>N1</title>\n",
       "<ellipse cx=\"27\" cy=\"-90\" fill=\"none\" rx=\"27\" ry=\"18\" stroke=\"black\"/>\n",
       "<text font-family=\"Times,serif\" font-size=\"14.00\" text-anchor=\"middle\" x=\"27\" y=\"-85.8\">1</text>\n",
       "</g>\n",
       "<!-- N2&#45;&gt;N1 -->\n",
       "<g class=\"edge\" id=\"edge1\"><title>N2-&gt;N1</title>\n",
       "<path d=\"M84.4297,-146.834C74.2501,-136.938 60.4761,-123.546 48.9694,-112.359\" fill=\"none\" stroke=\"black\"/>\n",
       "<polygon fill=\"black\" points=\"51.4055,-109.846 41.7957,-105.385 46.5259,-114.865 51.4055,-109.846\" stroke=\"black\"/>\n",
       "</g>\n",
       "<!-- N3 -->\n",
       "<g class=\"node\" id=\"node4\"><title>N3</title>\n",
       "<ellipse cx=\"99\" cy=\"-90\" fill=\"none\" rx=\"27\" ry=\"18\" stroke=\"black\"/>\n",
       "<text font-family=\"Times,serif\" font-size=\"14.00\" text-anchor=\"middle\" x=\"99\" y=\"-85.8\">3</text>\n",
       "</g>\n",
       "<!-- N2&#45;&gt;N3 -->\n",
       "<g class=\"edge\" id=\"edge2\"><title>N2-&gt;N3</title>\n",
       "<path d=\"M99,-143.697C99,-135.983 99,-126.712 99,-118.112\" fill=\"none\" stroke=\"black\"/>\n",
       "<polygon fill=\"black\" points=\"102.5,-118.104 99,-108.104 95.5001,-118.104 102.5,-118.104\" stroke=\"black\"/>\n",
       "</g>\n",
       "<!-- N5 -->\n",
       "<g class=\"node\" id=\"node6\"><title>N5</title>\n",
       "<ellipse cx=\"171\" cy=\"-90\" fill=\"none\" rx=\"27\" ry=\"18\" stroke=\"black\"/>\n",
       "<text font-family=\"Times,serif\" font-size=\"14.00\" text-anchor=\"middle\" x=\"171\" y=\"-85.8\">5</text>\n",
       "</g>\n",
       "<!-- N6&#45;&gt;N5 -->\n",
       "<g class=\"edge\" id=\"edge4\"><title>N6-&gt;N5</title>\n",
       "<path d=\"M171,-143.697C171,-135.983 171,-126.712 171,-118.112\" fill=\"none\" stroke=\"black\"/>\n",
       "<polygon fill=\"black\" points=\"174.5,-118.104 171,-108.104 167.5,-118.104 174.5,-118.104\" stroke=\"black\"/>\n",
       "</g>\n",
       "<!-- N7 -->\n",
       "<g class=\"node\" id=\"node7\"><title>N7</title>\n",
       "<ellipse cx=\"243\" cy=\"-90\" fill=\"none\" rx=\"27\" ry=\"18\" stroke=\"black\"/>\n",
       "<text font-family=\"Times,serif\" font-size=\"14.00\" text-anchor=\"middle\" x=\"243\" y=\"-85.8\">7</text>\n",
       "</g>\n",
       "<!-- N6&#45;&gt;N7 -->\n",
       "<g class=\"edge\" id=\"edge6\"><title>N6-&gt;N7</title>\n",
       "<path d=\"M185.57,-146.834C195.75,-136.938 209.524,-123.546 221.031,-112.359\" fill=\"none\" stroke=\"black\"/>\n",
       "<polygon fill=\"black\" points=\"223.474,-114.865 228.204,-105.385 218.595,-109.846 223.474,-114.865\" stroke=\"black\"/>\n",
       "</g>\n",
       "<!-- N8 -->\n",
       "<g class=\"node\" id=\"node8\"><title>N8</title>\n",
       "<ellipse cx=\"243\" cy=\"-18\" fill=\"none\" rx=\"27\" ry=\"18\" stroke=\"red\"/>\n",
       "<text font-family=\"Times,serif\" font-size=\"14.00\" text-anchor=\"middle\" x=\"243\" y=\"-13.8\">8</text>\n",
       "</g>\n",
       "<!-- N7&#45;&gt;N8 -->\n",
       "<g class=\"edge\" id=\"edge5\"><title>N7-&gt;N8</title>\n",
       "<path d=\"M243,-71.6966C243,-63.9827 243,-54.7125 243,-46.1124\" fill=\"none\" stroke=\"black\"/>\n",
       "<polygon fill=\"black\" points=\"246.5,-46.1043 243,-36.1043 239.5,-46.1044 246.5,-46.1043\" stroke=\"black\"/>\n",
       "</g>\n",
       "</g>\n",
       "</svg>"
      ],
      "text/plain": [
       "<IPython.core.display.SVG object>"
      ]
     },
     "execution_count": 39,
     "metadata": {},
     "output_type": "execute_result"
    }
   ],
   "source": [
    "from IPython.display import SVG\n",
    "def show_svg(filename):\n",
    "    return SVG(filename='img/%s.svg' % filename)\n",
    "show_svg(filename)"
   ]
  },
  {
   "cell_type": "code",
   "execution_count": 43,
   "metadata": {
    "collapsed": false
   },
   "outputs": [],
   "source": [
    "# "
   ]
  },
  {
   "cell_type": "markdown",
   "metadata": {},
   "source": [
    "## Exercises\n",
    "### 13.1-1"
   ]
  },
  {
   "cell_type": "markdown",
   "metadata": {},
   "source": [
    "### 13.1-2\n",
    "\n",
    "No, its parent is red, by 4) it has to be black.\n",
    "\n",
    "No, black-height changed, 5) no longer holds."
   ]
  },
  {
   "cell_type": "markdown",
   "metadata": {},
   "source": [
    "### 13.1-3"
   ]
  },
  {
   "cell_type": "markdown",
   "metadata": {},
   "source": [
    "### 13.1-4"
   ]
  },
  {
   "cell_type": "markdown",
   "metadata": {},
   "source": [
    "### 13.1-5"
   ]
  },
  {
   "cell_type": "markdown",
   "metadata": {},
   "source": [
    "### 13.1-6"
   ]
  },
  {
   "cell_type": "markdown",
   "metadata": {},
   "source": [
    "### 13.1-7"
   ]
  },
  {
   "cell_type": "markdown",
   "metadata": {},
   "source": [
    "### 13.2-1"
   ]
  },
  {
   "cell_type": "code",
   "execution_count": 3,
   "metadata": {
    "collapsed": true
   },
   "outputs": [],
   "source": [
    "def right_rotate(T, y):\n",
    "    x = y.left\n",
    "    y.left = x.right\n",
    "    if x.right != T.nil:\n",
    "        x.right.p = y\n",
    "    x.p = y.p\n",
    "    if y.p == T.nil:\n",
    "        T.root = x\n",
    "    elif y ==y.p.left:\n",
    "        y.p.left = x\n",
    "    else:\n",
    "        y.p.right = x\n",
    "    x.right = y\n",
    "    y.p = x"
   ]
  },
  {
   "cell_type": "markdown",
   "metadata": {},
   "source": [
    "### 13.2-2\n",
    "each rotation corresponds to one edge, there are $(n-1)$ edges in a $n$-node binary tree."
   ]
  },
  {
   "cell_type": "markdown",
   "metadata": {},
   "source": [
    "### 13.2-3"
   ]
  },
  {
   "cell_type": "markdown",
   "metadata": {},
   "source": [
    "### 13.2-4"
   ]
  },
  {
   "cell_type": "markdown",
   "metadata": {},
   "source": [
    "### 13.2-5"
   ]
  },
  {
   "cell_type": "markdown",
   "metadata": {},
   "source": [
    "### 13.3-1\n",
    "black-height of some paths would be changed and that would be harder to fix than fixing colors."
   ]
  },
  {
   "cell_type": "markdown",
   "metadata": {},
   "source": [
    "## Problems"
   ]
  }
 ],
 "metadata": {
  "kernelspec": {
   "display_name": "Python 2",
   "language": "python",
   "name": "python2"
  },
  "language_info": {
   "codemirror_mode": {
    "name": "ipython",
    "version": 2
   },
   "file_extension": ".py",
   "mimetype": "text/x-python",
   "name": "python",
   "nbconvert_exporter": "python",
   "pygments_lexer": "ipython2",
   "version": "2.7.10"
  }
 },
 "nbformat": 4,
 "nbformat_minor": 0
}
