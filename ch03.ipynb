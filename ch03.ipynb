{
 "cells": [
  {
   "cell_type": "markdown",
   "metadata": {
    "collapsed": false
   },
   "source": [
    "# Chapter 3\n",
    "## Notes\n",
    "### $\\Theta$-notation, $O$-notation and $\\Omega$-notation\n",
    "\n",
    "tight bound, upper bound, lower bound\n",
    "\n",
    "Interpreting equations containing aymptotic notations: No matter how the anonymous functions are chosen on the left of the equal sign, there is a way to choose the anonymous functions on the right of the equal sign to make the equation valid.\n",
    "\n",
    "$o$-notation: upper bound but not aymptotically tight.\n",
    "e.g. $2n = o(n^2)$ but $2n^2 \\neq o(n^2)$\n",
    "\n",
    "### Logarithms\n",
    "\n",
    "- $\\log_ba = \\frac{\\log_ca}{\\log_cb}\\Leftarrow b^x = a, x\\log_cb = \\log_ca$\n",
    "- $a^{\\log_bc} = c^{\\log_ba} \\Leftarrow b^{\\log_ba\\log_bc}=b^{\\log_bc\\log_ba}$\n",
    "\n",
    "### Factorials\n",
    "\n",
    "- $n! = \\sqrt{2\\pi n}(\\frac{n}{e})^n(1+\\Theta(\\frac{1}{n}))$"
   ]
  },
  {
   "cell_type": "markdown",
   "metadata": {},
   "source": [
    "## Exercises\n",
    "### 3.1-1\n",
    "\n",
    "We want to show that there exist $c_1, c_2, n_0 > 0$ such that\n",
    "$$c_1(f(n) + g(n)) \\leq \\max(f(n), g(n))\\leq c_2(f(n) + g(n))$$\n",
    "since $f, g$ are nonnegative, we can simply let $c_2=1$.\n",
    "\n",
    "Also, since $$2\\cdot \\max(f(n), g(n)) = \\max(f(n), g(n)) + \\max(f(n), g(n)) \\geq f(n) + g(n),$$ \n",
    "we can choose $c_1 = 1/2$\n",
    "\n",
    "This is true for all $n$.\n"
   ]
  },
  {
   "cell_type": "markdown",
   "metadata": {},
   "source": [
    "### 3.1-2\n",
    "\n",
    "$b$ is real number, can't use binomial theorem\n",
    "\n",
    "Again, $$c_1n^b \\leq (n+a)^b \\leq c_2n^2$$ so\n",
    "$$c_1 \\leq (1+a/n)^b \\leq c_2$$\n",
    "\n",
    "if $a\\geq 0$, $$1 \\leq (1+a/n)^b \\leq (1+a/n)^{n/a} \\leq e$$\n",
    "if $a < 0$, $$ (1/2)^b \\leq (1+a/n)^b \\leq 1$$ for $n\\geq 2a$"
   ]
  },
  {
   "cell_type": "markdown",
   "metadata": {},
   "source": [
    "### 3.1-3\n",
    "\n",
    "Explain why the statement, \"The running time of algorithm A is at least $O(n^2)$, \" is meaningless.\n",
    "\n",
    "Big-Oh is an upper-bound, at least refers to a lower-bound.\n"
   ]
  },
  {
   "cell_type": "markdown",
   "metadata": {},
   "source": [
    "### 3.1-4\n",
    "\n",
    "Yes, $0\\leq 2^{n+1} \\leq 2\\cdot 2^n$.\n",
    "\n",
    "No, for any $c$, there exists $n$ s.t. $2^n\\geq c$, whence $2^{2n} = 2^n\\cdot 2^n \\geq c\\cdot 2^n$."
   ]
  },
  {
   "cell_type": "markdown",
   "metadata": {},
   "source": [
    "### 3.2-4\n"
   ]
  },
  {
   "cell_type": "markdown",
   "metadata": {},
   "source": [
    "### 3.2-5\n",
    "\n",
    "$\\lg*(\\lg n)$ is larger.\n",
    "\n",
    "$\\lg*(\\lg n) = \\lg*(n) - 1$\n",
    "\n",
    "Taking lg makes it aymptotically smaller.\n"
   ]
  },
  {
   "cell_type": "markdown",
   "metadata": {},
   "source": [
    "### 3.2-8\n"
   ]
  },
  {
   "cell_type": "markdown",
   "metadata": {},
   "source": [
    "## Problems\n",
    "### 3-1\n",
    "\n",
    "**a**.\n",
    "\n",
    "**b**.\n",
    "\n",
    "**c**.\n",
    "\n",
    "**d**.\n",
    "\n",
    "**e**."
   ]
  },
  {
   "cell_type": "markdown",
   "metadata": {},
   "source": [
    "### 3-2\n",
    "\n",
    "**a**.\n",
    "\n",
    "**b**.\n",
    "\n",
    "**c**.\n",
    "\n",
    "**d**.\n",
    "\n",
    "**e**."
   ]
  },
  {
   "cell_type": "markdown",
   "metadata": {},
   "source": [
    "### 3-3\n",
    "\n",
    "**a**.\n",
    "\n",
    "**b**.\n",
    "\n",
    "**c**.\n",
    "\n",
    "**d**.\n",
    "\n",
    "**e**."
   ]
  },
  {
   "cell_type": "markdown",
   "metadata": {},
   "source": [
    "### 3-4\n",
    "\n",
    "**a**.\n",
    "\n",
    "**b**.\n",
    "\n",
    "**c**.\n",
    "\n",
    "**d**.\n",
    "\n",
    "**e**."
   ]
  },
  {
   "cell_type": "code",
   "execution_count": null,
   "metadata": {
    "collapsed": true
   },
   "outputs": [],
   "source": []
  }
 ],
 "metadata": {
  "kernelspec": {
   "display_name": "Python 2",
   "language": "python",
   "name": "python2"
  },
  "language_info": {
   "codemirror_mode": {
    "name": "ipython",
    "version": 2
   },
   "file_extension": ".py",
   "mimetype": "text/x-python",
   "name": "python",
   "nbconvert_exporter": "python",
   "pygments_lexer": "ipython2",
   "version": "2.7.11"
  }
 },
 "nbformat": 4,
 "nbformat_minor": 0
}
