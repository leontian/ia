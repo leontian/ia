{
 "cells": [
  {
   "cell_type": "markdown",
   "metadata": {},
   "source": [
    "# Chapter 2\n",
    "## Notes\n",
    "\n",
    "### Insertion Sort\n",
    "\n",
    "best case: linear\n",
    "\n",
    "worst case: $\\Theta(n^2)$"
   ]
  },
  {
   "cell_type": "code",
   "execution_count": 7,
   "metadata": {
    "collapsed": false
   },
   "outputs": [
    {
     "data": {
      "text/plain": [
       "[1, 2, 2, 3, 4]"
      ]
     },
     "execution_count": 7,
     "metadata": {},
     "output_type": "execute_result"
    }
   ],
   "source": [
    "def insertion_sort_reversed(A):\n",
    "    for j in range(1, len(A)):\n",
    "        key = A[j]\n",
    "        i = j - 1\n",
    "        while i >= 0 and A[i] > key:\n",
    "            A[i+1] = A[i]\n",
    "            i -= 1\n",
    "        A[i+1] = key\n",
    "\n",
    "x = [2, 3, 1, 4, 2]\n",
    "insertion_sort_reversed(x)\n",
    "x"
   ]
  },
  {
   "cell_type": "markdown",
   "metadata": {},
   "source": [
    "### Divide-and conquer approach\n",
    "\n",
    "Many useful algorithms are recursive in structure.\n",
    "\n",
    "Break the broblem into several subproblems that are similar to the original problem but smaller in size, solve the subproblems recursively, and then combine these solutions to create a solution to the original problem.\n",
    "\n",
    "At EACH level of the recursion:\n",
    "\n",
    "1. Divide the problem into a number of subproblems that are smaller instances of the same problem.\n",
    "2. Conquer the subproblems by solving them recursively. If the subproblem sizes are small enough, however, just solve the subproblems in a straightforward manner.\n",
    "3. Combine the solutions to the subproblems into the solution for the original problem."
   ]
  },
  {
   "cell_type": "markdown",
   "metadata": {},
   "source": [
    "### Merge Sort\n",
    "\n",
    "Merge sort running time:\n",
    "The resursion tree has about $log_2n$ levels and each takes $\\Theta(n)$ to merge back to upper level. So it's $nlog_2n$.\n",
    "\n",
    "See 2.3-2 for implementation."
   ]
  },
  {
   "cell_type": "markdown",
   "metadata": {},
   "source": [
    "## Exercises\n",
    "### 2.1-2\n",
    "\n",
    "```\n",
    "Non-Increasing-Insersion-Sort(A)\n",
    "    for j = 2 to A.length\n",
    "        key = A[j]\n",
    "        i = j - 1\n",
    "        while i > 0 and A[i] < key\n",
    "            A[i+1] = A[i]\n",
    "            i = i - 1\n",
    "        A[i+1] = key\n",
    "```"
   ]
  },
  {
   "cell_type": "code",
   "execution_count": 70,
   "metadata": {
    "collapsed": false
   },
   "outputs": [
    {
     "data": {
      "text/plain": [
       "[4, 3, 2, 2, 1]"
      ]
     },
     "execution_count": 70,
     "metadata": {},
     "output_type": "execute_result"
    }
   ],
   "source": [
    "def insertion_sort_reversed(A):\n",
    "    for j in range(1, len(A)):\n",
    "        key = A[j]\n",
    "        i = j - 1\n",
    "        while i >= 0 and A[i] < key:\n",
    "            A[i+1] = A[i]\n",
    "            i -= 1\n",
    "        A[i+1] = key\n",
    "\n",
    "x = [2, 3, 1, 4, 2]\n",
    "insertion_sort_reversed(x)\n",
    "x"
   ]
  },
  {
   "cell_type": "markdown",
   "metadata": {},
   "source": [
    "### 2.1-3\n",
    "```\n",
    "LinearSearch(A, v)\n",
    "    for i = 1 to A.length\n",
    "        if v == A[i]\n",
    "            return i\n",
    "    return Nil\n",
    "```\n",
    "Loop invariant: the sub-sequence A[1..i-1] does not contain v as an element."
   ]
  },
  {
   "cell_type": "markdown",
   "metadata": {},
   "source": [
    "### 2.1-4\n",
    "Input: Two n-bit binary integers A, B (in forms of n-arrays)\n",
    "Output: (n+1)-bit binary integer C which is the sum of integers A and B\n",
    "\n",
    "Pseudocode:\n",
    "```\n",
    "Sum(A, B)\n",
    "    C initialized as n+1 array filled with 0\n",
    "    for i = n to 1 step -1\n",
    "        C[i+1] = (A[i] + B[i] +C[i+1])%2\n",
    "        C[i] = (A[i] + B[i] + C[i+1])/2\n",
    "    return C\n",
    "```"
   ]
  },
  {
   "cell_type": "markdown",
   "metadata": {},
   "source": [
    "### 2.2-1\n",
    "$\\Theta(n^3)$"
   ]
  },
  {
   "cell_type": "markdown",
   "metadata": {},
   "source": [
    "### 2.2-2\n",
    "\n",
    "``` \n",
    "Selection-Sort(A)\n",
    "    n = A.length\n",
    "    for i = 1 to n-1\n",
    "        j = Find_Minimum(A, i, n)\n",
    "        temp = A[i]\n",
    "        A[i] = A[j]\n",
    "        A[j] = A[i]\n",
    "\n",
    "//returns index of minimum\n",
    "Find_Minimum(A, i, n)\n",
    "    min = i\n",
    "    for k = i + 1 to n\n",
    "        if A[k] < A[i]\n",
    "            min = k\n",
    "    return min\n",
    "```\n",
    "Loop invariant: A[1..i] is sorted.\n",
    "\n",
    "n-th element is automatically the smallest and inserted.\n",
    "\n",
    "both $\\Theta(n^2)$\n",
    "    "
   ]
  },
  {
   "cell_type": "markdown",
   "metadata": {},
   "source": [
    "### 2.2-3\n",
    "\n",
    "Half of them on average. All in the worst case. $\\Theta(n)$"
   ]
  },
  {
   "cell_type": "markdown",
   "metadata": {},
   "source": [
    "### 2.2-4\n",
    "Check whether the input itself is already our desired output before doing further computations."
   ]
  },
  {
   "cell_type": "markdown",
   "metadata": {},
   "source": [
    "### 2.3-2\n",
    "```\n",
    "Merge_Without_Sentinel(A, p, q, r)\n",
    "n_1 = q - p + 1\n",
    "n_2 = r - q\n",
    "let L[1..n_1] and R[1..n_2] be new arrays\n",
    "for i = 1 to n_1\n",
    "    L[i] = A[p+i-q]\n",
    "for j = 1 to n_1\n",
    "    R[j] = A[q+j]\n",
    "i = 1\n",
    "j = 1\n",
    "for k = p to r\n",
    "    if j > n_2\n",
    "        A[k] = L[i]\n",
    "        i = i + 1\n",
    "    else if i > n_1\n",
    "        A[k] = R[j]\n",
    "        j = j + 1\n",
    "    else\n",
    "        if L[i] <= R[j]\n",
    "            A[k] = L[i]\n",
    "            i = i + 1\n",
    "        else\n",
    "            A[k] = R[j]\n",
    "            j = j + 1\n",
    "            \\\\this part can be simplified.\n",
    "```"
   ]
  },
  {
   "cell_type": "code",
   "execution_count": 71,
   "metadata": {
    "collapsed": false
   },
   "outputs": [
    {
     "name": "stdout",
     "output_type": "stream",
     "text": [
      "Merging 0 0 1 [5, 4, 3, 2, 1] [5] [4] \n",
      "\n",
      "Merging 0 1 2 [4, 5, 3, 2, 1] [4, 5] [3] \n",
      "\n",
      "Merging 3 3 4 [3, 4, 5, 2, 1] [2] [1] \n",
      "\n",
      "Merging 0 2 4 [3, 4, 5, 1, 2] [3, 4, 5] [1, 2] \n",
      "\n"
     ]
    },
    {
     "data": {
      "text/plain": [
       "[1, 2, 3, 4, 5]"
      ]
     },
     "execution_count": 71,
     "metadata": {},
     "output_type": "execute_result"
    }
   ],
   "source": [
    "def merge(A, p, q, r):\n",
    "    L = A[p:q+1]\n",
    "    R = A[q+1:r+1]\n",
    "    print \"Merging\", p, q, r, A, L, R, \"\\n\"\n",
    "    i = 0\n",
    "    j = 0\n",
    "    for k in range(p, r + 1):\n",
    "        if j > r - q - 1:\n",
    "            A[k] = L[i]\n",
    "            i += 1\n",
    "        elif i > q - p:\n",
    "            A[k] = R[j]\n",
    "            j += 1\n",
    "        elif L[i] <= R[j]:\n",
    "            A[k] = L[i]\n",
    "            i += 1\n",
    "        else:\n",
    "            A[k] = R[j]\n",
    "            j += 1\n",
    "\n",
    "def merge_sort(A, p, r):\n",
    "    if p < r:\n",
    "        q = (p + r) / 2\n",
    "        merge_sort(A, p, q)\n",
    "        merge_sort(A, q + 1, r)\n",
    "        merge(A, p, q, r)\n",
    "        \n",
    "x = [5, 4, 3, 2, 1]\n",
    "merge_sort(x, 0, len(x)-1)\n",
    "x\n",
    "    "
   ]
  },
  {
   "cell_type": "markdown",
   "metadata": {},
   "source": [
    "### 2.3-3\n",
    "\n",
    "Let $n = 2^k, k\\geq 1$.\n",
    "\n",
    "When $k = 1, n = 2$ we have $T(n) = 2$ where $n\\lg n = 2\\cdot 1 = 2$.\n",
    "\n",
    "Assume it holds for some $k = i\\geq 1$ then for $k = i + 1$ we have\n",
    "\n",
    "$T(2^{i+1}) = 2T(2^{i+1}/2) + 2^{i+1}$ since apparently $k > 1$ in this case, hence $$T(2^{i+1}) = 2T(2^{i}) + 2^{i+1} = 2\\cdot 2^{i}\\lg 2^{i} + 2^{i+1} = (i+1)\\cdot 2^{i+1}$$\n",
    "\n"
   ]
  },
  {
   "cell_type": "markdown",
   "metadata": {},
   "source": [
    "###2.3-5\n",
    "worst case you have to go down to the lowest level of the resursion tree before you can find the target, so it take $\\lg n$ steps, running time is $\\Theta(\\lg n)$."
   ]
  },
  {
   "cell_type": "code",
   "execution_count": 73,
   "metadata": {
    "collapsed": false
   },
   "outputs": [
    {
     "name": "stdout",
     "output_type": "stream",
     "text": [
      "array is not sorted\n",
      "-1\n",
      "3\n",
      "-1\n",
      "5\n",
      "0\n"
     ]
    }
   ],
   "source": [
    "# returns index of x in A, -1 if not found\n",
    "def binary_search_recursion(A, x, p, q):\n",
    "    if p == q and A[p] != x:\n",
    "        return -1\n",
    "    else:\n",
    "        mid = (p + q)/2\n",
    "        if A[mid] == x:\n",
    "            return mid\n",
    "        elif A[mid] > x:\n",
    "            return binary_search_recursion(A, x, p, mid-1)\n",
    "        else:\n",
    "            return binary_search_recursion(A, x, mid + 1, q)\n",
    "\n",
    "def binary_search(A, x):\n",
    "    # sanity check, A is sorted?\n",
    "    sorted = True\n",
    "    for i in range(len(A)-1):\n",
    "        if A[i] > A[i+1]:\n",
    "            sorted = False\n",
    "    \n",
    "    if sorted:\n",
    "        return binary_search_recursion(A, x, 0, len(A)-1)\n",
    "    else:\n",
    "        print(\"array is not sorted\")\n",
    "        return -1 #TODO: exception?\n",
    "\n",
    "A = [4, 3, 2, 1]\n",
    "B = [1, 3, 6, 7, 9, 10]\n",
    "print binary_search(A, 1)\n",
    "print binary_search(B, 7)\n",
    "print binary_search(B, 5)\n",
    "print binary_search(B, 10)\n",
    "print binary_search(B, 1)"
   ]
  },
  {
   "cell_type": "markdown",
   "metadata": {},
   "source": [
    "### 2.3-6\n",
    "No, for each loop it takes less time to search (from $\\Theta(n)$ to $\\Theta(\\lg n)$ but it takes same amount of time to rearrange the array, which is $\\Theta(n)$."
   ]
  },
  {
   "cell_type": "markdown",
   "metadata": {},
   "source": [
    "### 2.3-7\n",
    "First use merge-sort to sort the array.\n",
    "\n",
    "Then we loop over each element $t$ and use binary-search to look for $x-t$ in the complement.\n",
    "\n",
    "Running time of both procedures are $\\Theta(n\\lg n)$, so the running time of this algorithm is $\\Theta(n\\lg n)$"
   ]
  },
  {
   "cell_type": "markdown",
   "metadata": {},
   "source": [
    "## Problems"
   ]
  },
  {
   "cell_type": "markdown",
   "metadata": {},
   "source": [
    "### 2-1\n",
    "\n",
    "**a**. $n/k\\cdot k^2$\n",
    "\n",
    "**b**. Consider the recursion tree of merge-sort. Down to $\\lg (n/k)$-th level ($i$-th level has $2^i$ sublists) the modified the algorithm is the same as merge-sort, running time of which is $\\Theta(n\\log(n/k))$\n",
    "\n",
    "**c**. Apparently $k$ cannot be $\\Theta(n)$, otherwise running time would be $\\Theta(n^2)$. Let's try to solve the equation $nk+n\\lg(n/k) \\sim n\\lg n$ to get some clue.\n",
    "\n",
    "$$nk+n\\lg n - n\\lg k \\sim n\\lg n$$\n",
    "$$nk - n\\lg k\\sim n\\lg n$$\n",
    "$$nk \\sim n\\lg n$$\n",
    "\n",
    "which means $nk$ is $\\Theta(n\\lg n)$, so $k$ at most $\\Theta(\\lg n)$\n",
    "\n",
    "**d**. probably larger than $\\lg n$ considering other constant factors"
   ]
  },
  {
   "cell_type": "markdown",
   "metadata": {},
   "source": [
    "### 2-2\n",
    "\n",
    "**a**. All elements in A are still in A'\n",
    "\n",
    "**b**. Loop invariant: at the start of each iteration, the element A[j] is smaller than any element with larger indices.\n",
    "\n",
    "Proof. Initialization:\n",
    "\n",
    "Maintenance:\n",
    "\n",
    "Termination:\n",
    "\n",
    "**c**. Loop invariant: at the start of each iteration, the subarray A[...i-1] is sorted and the elements rest of the array are larger.\n",
    "\n",
    "**d**. $\\Theta(n^2)$. Its best-case running time is also $\\Theta(n^2)$\n"
   ]
  },
  {
   "cell_type": "markdown",
   "metadata": {},
   "source": [
    "###  2-3\n",
    "\n",
    "**a**. $\\Theta(n)$\n",
    "\n",
    "**b**. $\\Theta(n^2)$"
   ]
  },
  {
   "cell_type": "markdown",
   "metadata": {},
   "source": [
    "### 2-4\n",
    "\n",
    "**a**. (2, 1), (3, 1), (8, 6), (8, 1), (6, 1)\n",
    "\n",
    "**b**. $\\langle n, n-1, ..., 1\\rangle$\n",
    "\n",
    "Any pair is one. So the number is $C(n, 2) = \\frac{n(n-1)}{2}$\n",
    "\n",
    "**c**. When we insert an element, while looking for the spot to put it, each time we move an element we fix an inversion, so they should be proportional.\n",
    "\n",
    "**d**. If the join of two lists $A$ and $B$ is $L$, then \n",
    "1. the inversions $(a, b)$ are either within $A$ or $B$ ($a, b\\in A$ or $a, b\\in B$, we denote the numbers by $I(A)$ and $I(B)$) or between $A$ and $B$ (number is $C(L)$) and \n",
    "2. $C(L)$ is not affected by how elements in $A$ and $B$ are arranged.\n",
    "\n",
    "This means we can count the number by resursion:\n",
    "$$ I(L) = I(A) + I(B) + C(L) $$\n",
    "\n",
    "$C(L)$ can be counted when the two sorted sublists are merged because of (2).\n",
    "\n",
    "Suppose we are merging two sorted list\n",
    "$[a_1, ..., a_{n_1}]$ and $[b_1, ..., b_{n_2}]$\n",
    "if $b_j$ is inserted between $a_{i_j}$ and $a_{i_j+1}$, then $b_j$ causes $n_1-{i_j}$ inversions.\n",
    "\n",
    "Therefore $C(L) = \\sum_{j=1}^{n_2}(n_1-{i_j})$\n",
    "\n"
   ]
  },
  {
   "cell_type": "code",
   "execution_count": 81,
   "metadata": {
    "collapsed": false
   },
   "outputs": [
    {
     "name": "stdout",
     "output_type": "stream",
     "text": [
      "Merging 0 0 1 [5, 4, 3, 2, 1] [5] [4] \n",
      "\n",
      "1 \n",
      "\n",
      "Merging 0 1 2 [4, 5, 3, 2, 1] [4, 5] [3] \n",
      "\n",
      "2 \n",
      "\n",
      "Merging 3 3 4 [3, 4, 5, 2, 1] [2] [1] \n",
      "\n",
      "1 \n",
      "\n",
      "Merging 0 2 4 [3, 4, 5, 1, 2] [3, 4, 5] [1, 2] \n",
      "\n",
      "6 \n",
      "\n",
      "10\n"
     ]
    },
    {
     "data": {
      "text/plain": [
       "[1, 2, 3, 4, 5]"
      ]
     },
     "execution_count": 81,
     "metadata": {},
     "output_type": "execute_result"
    }
   ],
   "source": [
    "def merge(A, p, q, r):\n",
    "    L = A[p:q+1]\n",
    "    R = A[q+1:r+1]\n",
    "    print \"Merging\", p, q, r, A, L, R, \"\\n\"\n",
    "    i = 0\n",
    "    j = 0\n",
    "    inversion = 0\n",
    "    for k in range(p, r + 1):\n",
    "        if j > r - q - 1:\n",
    "            A[k] = L[i]\n",
    "            i += 1\n",
    "        elif i > q - p:\n",
    "            A[k] = R[j]\n",
    "            j += 1\n",
    "        elif L[i] <= R[j]:\n",
    "            A[k] = L[i]\n",
    "            i += 1\n",
    "        else:\n",
    "            A[k] = R[j]\n",
    "            j += 1\n",
    "            # inserting R[j] before L runs out here\n",
    "            inversion += (q + 1 - p) - i\n",
    "    print inversion, \"\\n\"\n",
    "    return inversion\n",
    "\n",
    "inversion = 0\n",
    "def merge_sort(A, p, r):\n",
    "    global inversion\n",
    "    if p < r:\n",
    "        q = (p + r) / 2\n",
    "        merge_sort(A, p, q)\n",
    "        merge_sort(A, q + 1, r)\n",
    "        inversion += merge(A, p, q, r)\n",
    "        return inversion\n",
    "    else:\n",
    "        return 0\n",
    "        \n",
    "x = [5, 4, 3, 2, 1]\n",
    "print merge_sort(x, 0, len(x)-1)\n",
    "x\n",
    "    "
   ]
  }
 ],
 "metadata": {
  "kernelspec": {
   "display_name": "Python 2",
   "language": "python",
   "name": "python2"
  },
  "language_info": {
   "codemirror_mode": {
    "name": "ipython",
    "version": 2
   },
   "file_extension": ".py",
   "mimetype": "text/x-python",
   "name": "python",
   "nbconvert_exporter": "python",
   "pygments_lexer": "ipython2",
   "version": "2.7.10"
  }
 },
 "nbformat": 4,
 "nbformat_minor": 0
}
