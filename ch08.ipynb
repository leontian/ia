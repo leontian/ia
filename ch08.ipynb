{
 "cells": [
  {
   "cell_type": "markdown",
   "metadata": {},
   "source": [
    "# Chapter 8\n",
    "## Notes\n",
    "\n",
    "### Lower bounds for sorting\n",
    "\n",
    "The decisin-tree model\n",
    "\n",
    "> Any correct sorting algorithm must be able to produce each permutation of its input, therefore each of the $n!$ permutations of on $n$ elements must appear as one of the leaves of the decision tree for a comparison sort to be correct.\n",
    "\n",
    "Theorem 8.1:  \n",
    "> Any comparison sort algorithm requires 􏰂$\\Theta(n \\lg n)$ comparisons in the worst case.\n",
    "\n",
    "Proof. Based on the fact shown above, consider a decision tree of height $h$ with $l$ reachable leaves, we have $n! \\leq l$. Also a binary tree of height $h$ has no more than $2^h$ leaves, we have $$ n!\\leq l\\leq 2^h$$ which implies\n",
    "$$ h\\geq \\lg(n!) = \\Theta(n\\lg n) $$\n",
    "\n",
    "(By Stirling's approximation,\n",
    "$$ n! =\\sqrt{2\\pi n}(\\frac{n}{e})^n(1+\\Theta(\\frac{1}{n}))$$)\n"
   ]
  },
  {
   "cell_type": "markdown",
   "metadata": {},
   "source": [
    "### Counting sort\n",
    "\n",
    "Counting sort assumes that each of the $n$ input elements is an integer in the range $0$ to $k$, for some integer $k$. When $k = O(n)$, running time is $\\Theta(n)$.\n",
    "\n",
    "> Counting sort is stable: numbers with the same value appear in the output array in the same order as they do in the input array.\n",
    "\n",
    "Used as a subroutine in radix sort because it's stable."
   ]
  },
  {
   "cell_type": "code",
   "execution_count": 7,
   "metadata": {
    "collapsed": false
   },
   "outputs": [],
   "source": [
    "def counting_sort(A, B, k):\n",
    "    C = [0 for i in range(k + 1)]\n",
    "    for j in range(len(A)):\n",
    "        C[A[j]] += 1 # counting\n",
    "    print \"Counting:\", C\n",
    "    for i in range(1, k + 1):\n",
    "        C[i] += C[i-1] # cumulative\n",
    "    print \"Cumulative:\", C\n",
    "    for j in range(len(A)-1, -1, -1):\n",
    "        B[C[A[j]]-1] = A[j]\n",
    "        C[A[j]] -= 1\n",
    "        print \"B:\", B\n",
    "        print \"C:\", C\n",
    " "
   ]
  },
  {
   "cell_type": "code",
   "execution_count": 6,
   "metadata": {
    "collapsed": false
   },
   "outputs": [
    {
     "name": "stdout",
     "output_type": "stream",
     "text": [
      "Counting: [2, 0, 2, 3, 0, 1]\n",
      "Cumulative: [2, 2, 4, 7, 7, 8]\n",
      "B: [2, 5, 3, 0, 2, 3, 3, 3]\n",
      "C: [2, 2, 4, 6, 7, 8]\n",
      "B: [2, 0, 3, 0, 2, 3, 3, 3]\n",
      "C: [1, 2, 4, 6, 7, 8]\n",
      "B: [2, 0, 3, 0, 2, 3, 3, 3]\n",
      "C: [1, 2, 4, 5, 7, 8]\n",
      "B: [2, 0, 3, 2, 2, 3, 3, 3]\n",
      "C: [1, 2, 3, 5, 7, 8]\n",
      "B: [0, 0, 3, 2, 2, 3, 3, 3]\n",
      "C: [0, 2, 3, 5, 7, 8]\n",
      "B: [0, 0, 3, 2, 3, 3, 3, 3]\n",
      "C: [0, 2, 3, 4, 7, 8]\n",
      "B: [0, 0, 3, 2, 3, 3, 3, 5]\n",
      "C: [0, 2, 3, 4, 7, 7]\n",
      "B: [0, 0, 2, 2, 3, 3, 3, 5]\n",
      "C: [0, 2, 2, 4, 7, 7]\n",
      "[0, 0, 2, 2, 3, 3, 3, 5]\n",
      "Counting: [2, 2, 2, 2, 1, 0, 2]\n",
      "Cumulative: [2, 4, 6, 8, 9, 9, 11]\n",
      "B: [None, None, None, None, None, 2, None, None, None, None, None]\n",
      "C: [2, 4, 5, 8, 9, 9, 11]\n",
      "B: [None, None, None, None, None, 2, None, 3, None, None, None]\n",
      "C: [2, 4, 5, 7, 9, 9, 11]\n",
      "B: [None, None, None, 1, None, 2, None, 3, None, None, None]\n",
      "C: [2, 3, 5, 7, 9, 9, 11]\n",
      "B: [None, None, None, 1, None, 2, None, 3, None, None, 6]\n",
      "C: [2, 3, 5, 7, 9, 9, 10]\n",
      "B: [None, None, None, 1, None, 2, None, 3, 4, None, 6]\n",
      "C: [2, 3, 5, 7, 8, 9, 10]\n",
      "B: [None, None, None, 1, None, 2, 3, 3, 4, None, 6]\n",
      "C: [2, 3, 5, 6, 8, 9, 10]\n",
      "B: [None, None, 1, 1, None, 2, 3, 3, 4, None, 6]\n",
      "C: [2, 2, 5, 6, 8, 9, 10]\n",
      "B: [None, 0, 1, 1, None, 2, 3, 3, 4, None, 6]\n",
      "C: [1, 2, 5, 6, 8, 9, 10]\n",
      "B: [None, 0, 1, 1, 2, 2, 3, 3, 4, None, 6]\n",
      "C: [1, 2, 4, 6, 8, 9, 10]\n",
      "B: [0, 0, 1, 1, 2, 2, 3, 3, 4, None, 6]\n",
      "C: [0, 2, 4, 6, 8, 9, 10]\n",
      "B: [0, 0, 1, 1, 2, 2, 3, 3, 4, 6, 6]\n",
      "C: [0, 2, 4, 6, 8, 9, 9]\n",
      "[0, 0, 1, 1, 2, 2, 3, 3, 4, 6, 6]\n"
     ]
    }
   ],
   "source": [
    "A = [2, 5, 3, 0, 2, 3, 0, 3]\n",
    "B = A[:]\n",
    "counting_sort(A, B, max(A))\n",
    "print B\n",
    "A = [6, 0, 2, 0, 1, 3, 4, 6, 1, 3, 2]\n",
    "B = [None for i in A]\n",
    "counting_sort(A, B, max(A))\n",
    "print B"
   ]
  },
  {
   "cell_type": "markdown",
   "metadata": {},
   "source": [
    "### Radix sort\n",
    "\n",
    "The code is straightforward:\n",
    "```\n",
    "Radix-Sort(A, d)\n",
    "    for i = 1 to d\n",
    "        use a stable sort to sort array A on digit i\n",
    "```\n"
   ]
  },
  {
   "cell_type": "markdown",
   "metadata": {},
   "source": [
    "### Bucket sort\n",
    "Bucket sort assumes that the input is drawn from a uniform distribution and has an average-case running time of $O(n)$. Counting sort and bucket sort are fast because they assume something about the input."
   ]
  },
  {
   "cell_type": "markdown",
   "metadata": {},
   "source": [
    "## Exercises\n",
    "\n",
    "### 8.1-1\n",
    "$n$, e.g. best case of insertion sort"
   ]
  },
  {
   "cell_type": "markdown",
   "metadata": {},
   "source": [
    "### 8.1-2\n",
    "Prove $ \\lg(n!) = \\Theta(n\\lg n)$\n",
    "\n",
    "\n",
    "$$\\lg(n!) =\\sum_{k=1}^n\\lg k\\leq \\sum_{k=1}^n\\lg n=n\\lg n$$\n",
    "$$ \\Omega(n\\lg n) = \\frac{n}{2}\\lg \\frac{n}{2}\\leq \\sum_{k=[\\frac{n}{2}]}^n\\lg \\frac{n}{2}\\leq \\sum_{k=[\\frac{n}{2}]}^n\\lg k \\leq \\sum_{k=1}^n\\lg k $$"
   ]
  },
  {
   "cell_type": "markdown",
   "metadata": {},
   "source": [
    "### 8.1-3\n",
    "\n",
    "Let's suppose at least half of the inputs have linear running time. Their correspoinding leaves have height $c_1n$. As we know, there are at most $c2^n$ leaves with height $c_1n$, but we know\n",
    "$c2^n < \\frac{1}{2} n!$ for some $n$, which leads to a contradiction.\n",
    "\n",
    "Changing the coefficient from 1/2 to $1/n$ or $1/2^2$ won't change this fact."
   ]
  },
  {
   "cell_type": "markdown",
   "metadata": {},
   "source": [
    "###  8.1-4\n",
    "\n"
   ]
  },
  {
   "cell_type": "markdown",
   "metadata": {},
   "source": [
    "### 8.2-2\n",
    "\n",
    "> Prove that Counting-Sort is stable.\n",
    "\n",
    "In the last loop we are looping from A.length to 1. We can see that , if $i<j$ such that $A[i] = A[j]$, then $C[A[i]] < C[A[j]]$, which means the new indices $i' = C[A[i]]$ and $j' = C[A[j]]$ of $A[i]$ and $A[j]$ maintains the order $i'<j'$."
   ]
  },
  {
   "cell_type": "markdown",
   "metadata": {},
   "source": [
    "### 8.2-3\n",
    "\n",
    "Nothing changes except that the elements of the same value are now put into $B$ in a reversed order. Therefore the algorithm still works but is no longer stable."
   ]
  },
  {
   "cell_type": "markdown",
   "metadata": {},
   "source": [
    "### 8.2-4\n",
    "\n",
    "We can use the Counting-Sort algorithm up to line 8, then the number of elements between $a$ and $b$ is simply $C[b] - C[a-1]$ (Assume $C[-1] = 0$ in the case of $a = 0$"
   ]
  },
  {
   "cell_type": "markdown",
   "metadata": {},
   "source": [
    "## Problems"
   ]
  },
  {
   "cell_type": "code",
   "execution_count": null,
   "metadata": {
    "collapsed": true
   },
   "outputs": [],
   "source": []
  },
  {
   "cell_type": "code",
   "execution_count": null,
   "metadata": {
    "collapsed": true
   },
   "outputs": [],
   "source": []
  }
 ],
 "metadata": {
  "kernelspec": {
   "display_name": "Python 2",
   "language": "python",
   "name": "python2"
  },
  "language_info": {
   "codemirror_mode": {
    "name": "ipython",
    "version": 2
   },
   "file_extension": ".py",
   "mimetype": "text/x-python",
   "name": "python",
   "nbconvert_exporter": "python",
   "pygments_lexer": "ipython2",
   "version": "2.7.11"
  }
 },
 "nbformat": 4,
 "nbformat_minor": 0
}
