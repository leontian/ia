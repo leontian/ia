{
 "cells": [
  {
   "cell_type": "markdown",
   "metadata": {},
   "source": [
    "# Chapter 11\n",
    "\n",
    "## Notes\n",
    "\n",
    "### Direct-address tables\n",
    "\n",
    "Array indices as keys. Works well when the universal set $U$ of keys is reasonably small.\n",
    "\n",
    "### Hash tables\n",
    "\n",
    "The downside of direct addressing is that if $U$ is large, as seen in 11.1-4, we storing a huge table is impractical or even impossible.\n",
    "\n",
    "Instead, we use hash function $h$ to compute the slot form the key $k$. Key $k$ hashes to slot $h(k)$ and $h(k)$ is the hash value of $k$.\n",
    "\n",
    "Two keys may hash to the same slot, which we call a collision. Simplest solution is chaining.\n",
    "\n",
    "```\n",
    "Chained-Hash-Insert(T, x)\n",
    "    insert x at the head of list T[h(x.key)]\n",
    "Chained-Hash-Search(T, k)\n",
    "    serach for an element with key k in list T[h(k)]\n",
    "Chained-Hash-Delete(T, x)\n",
    "    delete x from the list T[h(x.key)]\n",
    "```\n",
    "Insert is $O(1)$, delete is also $O(1)$ if we use a double linked list. Worst case time for searhing is $\\Theta(n)$.\n",
    "\n",
    "### Hash Functions\n",
    "- division method $$h(k)=k\\mod m$$\n",
    "- multiplication method $$h(k) = \\lfloor m(kA \\mod 1)\\rfloor$$ where $0<A<1$. An advantage of this method is that the value of $m$ is not critical. We typically choose it to be a power a 2.\n",
    "- universal hashing\n",
    "\n",
    "Some constructions:\n",
    "- define $h_{ab}$ for any $a\\in \\mathbb{Z}_p^*$ and any $b\\in \\mathbb{Z}_p$ using a linear transformation followed by reductions modulo $p$ and then modulo $m$:\n",
    "$$h_{ab}(k) = ((ak+b)\\mod p)\\mod m, $$ the family of all $p(p-1)$ such functions is a universal class of hash functions.\n"
   ]
  },
  {
   "cell_type": "markdown",
   "metadata": {},
   "source": [
    "## Exercises\n",
    "\n",
    "### 11.1-1\n",
    "\n",
    "Have to go through the whole table, skip if value is Nil compare if not.\n"
   ]
  },
  {
   "cell_type": "markdown",
   "metadata": {},
   "source": [
    "### 11.1-2\n",
    "Set $k$-th bit to 1 while other bits 0 to present key $k$."
   ]
  },
  {
   "cell_type": "markdown",
   "metadata": {},
   "source": [
    "### 11.1-3\n",
    "\n",
    "The slots in the table contain pointers to heads of doulbe linked lists. Insert: append, Delete: remove a node, Search: follow the link (is this $O(1)$?)"
   ]
  },
  {
   "cell_type": "markdown",
   "metadata": {},
   "source": [
    "### 11.1-4\n",
    "> We wish to implement a dictionary by using direct addressing on a *huge* array. At the start, the array entries may ontain garbage, and initializing the entire array is impractical because of its size. Describe a scheme for implementing a direct-address dictionary on a huge array. Each stored object should use $O(1)$ space. The operations search, insert, and delete should take $O(1)$ time each; and initializing the data structure should take $O(1)$ time.\n",
    "\n",
    "As suggested by hint, we use two arrays (actually, three arrays)\n",
    "\n",
    "Let's denote the huge array by $T$. We implement the stack using an array $S$, we also use an array $S'$ allocated to be the same size as $S$.\n",
    "\n",
    "If $k$ is actually stored in $T$ then $T(k)=j$ where $j$ is a valid index of $S$ such that $S(j)=k$, we store the pointer to the object in $S'(j)$.\n",
    "\n",
    "- Insert: To insert object $x$ with key $k$, assuming that this object is not already in the dictionary, we increment $top[S]$, set $S'[top[S]]\\leftarrow x$, set $S[top[S]]\\leftarrow k$ and set $T[k]\\leftarrow top[S]$\n",
    "\n",
    "- Delete: To delete object x with key k, assuming that this object is in the dictionary, we need to break the validating cycle. The trick is to also ensure that we don't leave a hole in the stack, and we solve this problem by moving the top entry of the stack into the position that we are vacating - and then fixing up that entry's validating cycle. That is, we execute the following sequence of assignments:\n",
    "$$S[T [k]] \\leftarrow S[top[S]]$$\n",
    "$$S′[T [k]] \\leftarrow S′[top[S]]$$ \n",
    "$$T[S[T[k]]] \\leftarrow T[k]$$\n",
    "$$T[k] \\leftarrow 0$$\n",
    "$$top[S] \\leftarrow top[S] − 1$$\n",
    "\n",
    "- Search: Given key k, we check whether we have a validating cycle, i.e., whether $1 \\leq T [k] \\leq top[S]$ and $S[T [k]] = k$. If so, we return $S′[T [k]]$,and otherwise we return NIL.\n",
    "\n",
    "\n",
    "\n",
    "As we can see here, we maintain an 1-1 correspondance between the two lists (validating cycle), otherwise we couldn't do searches in $O(1)$."
   ]
  },
  {
   "cell_type": "markdown",
   "metadata": {},
   "source": [
    "### 11.2-1\n",
    "\n",
    "Let $X_{kl}$ be the random variable that equals 1 if $k\\neq l$ but $h(k)=h(l)$ and 0 otherwise. Then $E(X_{kl}) = \\frac{1}{m}$ and expected cardinality is\n",
    "$$\\sum_{k\\neq l}E(X_{kl})=\\binom{n}{2}\\frac{1}{m}$$"
   ]
  },
  {
   "cell_type": "code",
   "execution_count": null,
   "metadata": {
    "collapsed": true
   },
   "outputs": [],
   "source": []
  },
  {
   "cell_type": "markdown",
   "metadata": {},
   "source": [
    "## Problems"
   ]
  }
 ],
 "metadata": {
  "kernelspec": {
   "display_name": "Python 2",
   "language": "python",
   "name": "python2"
  },
  "language_info": {
   "codemirror_mode": {
    "name": "ipython",
    "version": 2
   },
   "file_extension": ".py",
   "mimetype": "text/x-python",
   "name": "python",
   "nbconvert_exporter": "python",
   "pygments_lexer": "ipython2",
   "version": "2.7.10"
  }
 },
 "nbformat": 4,
 "nbformat_minor": 0
}
